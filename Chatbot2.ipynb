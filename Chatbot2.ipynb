{
  "nbformat": 4,
  "nbformat_minor": 0,
  "metadata": {
    "colab": {
      "provenance": [],
      "authorship_tag": "ABX9TyONl3kBmh09KpaLsNMgJgKv",
      "include_colab_link": true
    },
    "kernelspec": {
      "name": "python3",
      "display_name": "Python 3"
    },
    "language_info": {
      "name": "python"
    }
  },
  "cells": [
    {
      "cell_type": "markdown",
      "metadata": {
        "id": "view-in-github",
        "colab_type": "text"
      },
      "source": [
        "<a href=\"https://colab.research.google.com/github/Koks-creator/IntentsChatBot/blob/main/Chatbot2.ipynb\" target=\"_parent\"><img src=\"https://colab.research.google.com/assets/colab-badge.svg\" alt=\"Open In Colab\"/></a>"
      ]
    },
    {
      "cell_type": "code",
      "execution_count": null,
      "metadata": {
        "colab": {
          "base_uri": "https://localhost:8080/",
          "height": 1000
        },
        "id": "ZWASzJ9O0fbL",
        "outputId": "efa22a96-4c8a-49ed-8bea-9b0267f156ef"
      },
      "outputs": [
        {
          "output_type": "stream",
          "name": "stdout",
          "text": [
            "Looking in indexes: https://pypi.org/simple, https://us-python.pkg.dev/colab-wheels/public/simple/\n",
            "Collecting keras==2.4.3\n",
            "  Downloading Keras-2.4.3-py2.py3-none-any.whl (36 kB)\n",
            "Collecting tensorflow==2.3.1\n",
            "  Downloading tensorflow-2.3.1-cp37-cp37m-manylinux2010_x86_64.whl (320.4 MB)\n",
            "\u001b[K     |████████████████████████████████| 320.4 MB 25 kB/s \n",
            "\u001b[?25hRequirement already satisfied: numpy>=1.9.1 in /usr/local/lib/python3.7/dist-packages (from keras==2.4.3) (1.21.6)\n",
            "Requirement already satisfied: pyyaml in /usr/local/lib/python3.7/dist-packages (from keras==2.4.3) (6.0)\n",
            "Requirement already satisfied: h5py in /usr/local/lib/python3.7/dist-packages (from keras==2.4.3) (3.1.0)\n",
            "Requirement already satisfied: scipy>=0.14 in /usr/local/lib/python3.7/dist-packages (from keras==2.4.3) (1.7.3)\n",
            "Requirement already satisfied: tensorboard<3,>=2.3.0 in /usr/local/lib/python3.7/dist-packages (from tensorflow==2.3.1) (2.9.1)\n",
            "Requirement already satisfied: six>=1.12.0 in /usr/local/lib/python3.7/dist-packages (from tensorflow==2.3.1) (1.15.0)\n",
            "Requirement already satisfied: termcolor>=1.1.0 in /usr/local/lib/python3.7/dist-packages (from tensorflow==2.3.1) (2.1.0)\n",
            "Requirement already satisfied: opt-einsum>=2.3.2 in /usr/local/lib/python3.7/dist-packages (from tensorflow==2.3.1) (3.3.0)\n",
            "Requirement already satisfied: keras-preprocessing<1.2,>=1.1.1 in /usr/local/lib/python3.7/dist-packages (from tensorflow==2.3.1) (1.1.2)\n",
            "Requirement already satisfied: absl-py>=0.7.0 in /usr/local/lib/python3.7/dist-packages (from tensorflow==2.3.1) (1.3.0)\n",
            "Collecting tensorflow-estimator<2.4.0,>=2.3.0\n",
            "  Downloading tensorflow_estimator-2.3.0-py2.py3-none-any.whl (459 kB)\n",
            "\u001b[K     |████████████████████████████████| 459 kB 17.9 MB/s \n",
            "\u001b[?25hRequirement already satisfied: wheel>=0.26 in /usr/local/lib/python3.7/dist-packages (from tensorflow==2.3.1) (0.38.3)\n",
            "Requirement already satisfied: google-pasta>=0.1.8 in /usr/local/lib/python3.7/dist-packages (from tensorflow==2.3.1) (0.2.0)\n",
            "Requirement already satisfied: protobuf>=3.9.2 in /usr/local/lib/python3.7/dist-packages (from tensorflow==2.3.1) (3.19.6)\n",
            "Requirement already satisfied: grpcio>=1.8.6 in /usr/local/lib/python3.7/dist-packages (from tensorflow==2.3.1) (1.50.0)\n",
            "Requirement already satisfied: wrapt>=1.11.1 in /usr/local/lib/python3.7/dist-packages (from tensorflow==2.3.1) (1.14.1)\n",
            "Collecting gast==0.3.3\n",
            "  Downloading gast-0.3.3-py2.py3-none-any.whl (9.7 kB)\n",
            "Requirement already satisfied: astunparse==1.6.3 in /usr/local/lib/python3.7/dist-packages (from tensorflow==2.3.1) (1.6.3)\n",
            "Collecting h5py\n",
            "  Downloading h5py-2.10.0-cp37-cp37m-manylinux1_x86_64.whl (2.9 MB)\n",
            "\u001b[K     |████████████████████████████████| 2.9 MB 47.0 MB/s \n",
            "\u001b[?25hCollecting numpy>=1.9.1\n",
            "  Downloading numpy-1.18.5-cp37-cp37m-manylinux1_x86_64.whl (20.1 MB)\n",
            "\u001b[K     |████████████████████████████████| 20.1 MB 841 kB/s \n",
            "\u001b[?25hRequirement already satisfied: setuptools>=41.0.0 in /usr/local/lib/python3.7/dist-packages (from tensorboard<3,>=2.3.0->tensorflow==2.3.1) (57.4.0)\n",
            "Requirement already satisfied: google-auth-oauthlib<0.5,>=0.4.1 in /usr/local/lib/python3.7/dist-packages (from tensorboard<3,>=2.3.0->tensorflow==2.3.1) (0.4.6)\n",
            "Requirement already satisfied: markdown>=2.6.8 in /usr/local/lib/python3.7/dist-packages (from tensorboard<3,>=2.3.0->tensorflow==2.3.1) (3.4.1)\n",
            "Requirement already satisfied: tensorboard-data-server<0.7.0,>=0.6.0 in /usr/local/lib/python3.7/dist-packages (from tensorboard<3,>=2.3.0->tensorflow==2.3.1) (0.6.1)\n",
            "Requirement already satisfied: tensorboard-plugin-wit>=1.6.0 in /usr/local/lib/python3.7/dist-packages (from tensorboard<3,>=2.3.0->tensorflow==2.3.1) (1.8.1)\n",
            "Requirement already satisfied: requests<3,>=2.21.0 in /usr/local/lib/python3.7/dist-packages (from tensorboard<3,>=2.3.0->tensorflow==2.3.1) (2.23.0)\n",
            "Requirement already satisfied: werkzeug>=1.0.1 in /usr/local/lib/python3.7/dist-packages (from tensorboard<3,>=2.3.0->tensorflow==2.3.1) (1.0.1)\n",
            "Requirement already satisfied: google-auth<3,>=1.6.3 in /usr/local/lib/python3.7/dist-packages (from tensorboard<3,>=2.3.0->tensorflow==2.3.1) (2.14.1)\n",
            "Requirement already satisfied: cachetools<6.0,>=2.0.0 in /usr/local/lib/python3.7/dist-packages (from google-auth<3,>=1.6.3->tensorboard<3,>=2.3.0->tensorflow==2.3.1) (5.2.0)\n",
            "Requirement already satisfied: rsa<5,>=3.1.4 in /usr/local/lib/python3.7/dist-packages (from google-auth<3,>=1.6.3->tensorboard<3,>=2.3.0->tensorflow==2.3.1) (4.9)\n",
            "Requirement already satisfied: pyasn1-modules>=0.2.1 in /usr/local/lib/python3.7/dist-packages (from google-auth<3,>=1.6.3->tensorboard<3,>=2.3.0->tensorflow==2.3.1) (0.2.8)\n",
            "Requirement already satisfied: requests-oauthlib>=0.7.0 in /usr/local/lib/python3.7/dist-packages (from google-auth-oauthlib<0.5,>=0.4.1->tensorboard<3,>=2.3.0->tensorflow==2.3.1) (1.3.1)\n",
            "Requirement already satisfied: importlib-metadata>=4.4 in /usr/local/lib/python3.7/dist-packages (from markdown>=2.6.8->tensorboard<3,>=2.3.0->tensorflow==2.3.1) (4.13.0)\n",
            "Requirement already satisfied: typing-extensions>=3.6.4 in /usr/local/lib/python3.7/dist-packages (from importlib-metadata>=4.4->markdown>=2.6.8->tensorboard<3,>=2.3.0->tensorflow==2.3.1) (4.1.1)\n",
            "Requirement already satisfied: zipp>=0.5 in /usr/local/lib/python3.7/dist-packages (from importlib-metadata>=4.4->markdown>=2.6.8->tensorboard<3,>=2.3.0->tensorflow==2.3.1) (3.10.0)\n",
            "Requirement already satisfied: pyasn1<0.5.0,>=0.4.6 in /usr/local/lib/python3.7/dist-packages (from pyasn1-modules>=0.2.1->google-auth<3,>=1.6.3->tensorboard<3,>=2.3.0->tensorflow==2.3.1) (0.4.8)\n",
            "Requirement already satisfied: urllib3!=1.25.0,!=1.25.1,<1.26,>=1.21.1 in /usr/local/lib/python3.7/dist-packages (from requests<3,>=2.21.0->tensorboard<3,>=2.3.0->tensorflow==2.3.1) (1.24.3)\n",
            "Requirement already satisfied: certifi>=2017.4.17 in /usr/local/lib/python3.7/dist-packages (from requests<3,>=2.21.0->tensorboard<3,>=2.3.0->tensorflow==2.3.1) (2022.9.24)\n",
            "Requirement already satisfied: idna<3,>=2.5 in /usr/local/lib/python3.7/dist-packages (from requests<3,>=2.21.0->tensorboard<3,>=2.3.0->tensorflow==2.3.1) (2.10)\n",
            "Requirement already satisfied: chardet<4,>=3.0.2 in /usr/local/lib/python3.7/dist-packages (from requests<3,>=2.21.0->tensorboard<3,>=2.3.0->tensorflow==2.3.1) (3.0.4)\n",
            "Requirement already satisfied: oauthlib>=3.0.0 in /usr/local/lib/python3.7/dist-packages (from requests-oauthlib>=0.7.0->google-auth-oauthlib<0.5,>=0.4.1->tensorboard<3,>=2.3.0->tensorflow==2.3.1) (3.2.2)\n",
            "Installing collected packages: numpy, tensorflow-estimator, h5py, gast, tensorflow, keras\n",
            "  Attempting uninstall: numpy\n",
            "    Found existing installation: numpy 1.21.6\n",
            "    Uninstalling numpy-1.21.6:\n",
            "      Successfully uninstalled numpy-1.21.6\n",
            "  Attempting uninstall: tensorflow-estimator\n",
            "    Found existing installation: tensorflow-estimator 2.9.0\n",
            "    Uninstalling tensorflow-estimator-2.9.0:\n",
            "      Successfully uninstalled tensorflow-estimator-2.9.0\n",
            "  Attempting uninstall: h5py\n",
            "    Found existing installation: h5py 3.1.0\n",
            "    Uninstalling h5py-3.1.0:\n",
            "      Successfully uninstalled h5py-3.1.0\n",
            "  Attempting uninstall: gast\n",
            "    Found existing installation: gast 0.4.0\n",
            "    Uninstalling gast-0.4.0:\n",
            "      Successfully uninstalled gast-0.4.0\n",
            "  Attempting uninstall: tensorflow\n",
            "    Found existing installation: tensorflow 2.9.2\n",
            "    Uninstalling tensorflow-2.9.2:\n",
            "      Successfully uninstalled tensorflow-2.9.2\n",
            "  Attempting uninstall: keras\n",
            "    Found existing installation: keras 2.9.0\n",
            "    Uninstalling keras-2.9.0:\n",
            "      Successfully uninstalled keras-2.9.0\n",
            "\u001b[31mERROR: pip's dependency resolver does not currently take into account all the packages that are installed. This behaviour is the source of the following dependency conflicts.\n",
            "xarray-einstats 0.2.2 requires numpy>=1.21, but you have numpy 1.18.5 which is incompatible.\n",
            "tables 3.7.0 requires numpy>=1.19.0, but you have numpy 1.18.5 which is incompatible.\n",
            "plotnine 0.8.0 requires numpy>=1.19.0, but you have numpy 1.18.5 which is incompatible.\n",
            "jaxlib 0.3.22+cuda11.cudnn805 requires numpy>=1.20, but you have numpy 1.18.5 which is incompatible.\n",
            "jax 0.3.23 requires numpy>=1.20, but you have numpy 1.18.5 which is incompatible.\n",
            "cmdstanpy 1.0.8 requires numpy>=1.21, but you have numpy 1.18.5 which is incompatible.\u001b[0m\n",
            "Successfully installed gast-0.3.3 h5py-2.10.0 keras-2.4.3 numpy-1.18.5 tensorflow-2.3.1 tensorflow-estimator-2.3.0\n"
          ]
        },
        {
          "output_type": "display_data",
          "data": {
            "application/vnd.colab-display-data+json": {
              "pip_warning": {
                "packages": [
                  "gast",
                  "h5py",
                  "keras",
                  "numpy",
                  "tensorflow"
                ]
              }
            }
          },
          "metadata": {}
        }
      ],
      "source": [
        "!pip install keras==2.4.3 tensorflow==2.3.1"
      ]
    },
    {
      "cell_type": "code",
      "source": [
        "import re\n",
        "import random\n",
        "import pickle\n",
        "import json\n",
        "from collections import Counter\n",
        "import string\n",
        "import pandas as pd\n",
        "import numpy as np\n",
        "import tensorflow as tf\n",
        "from tensorflow import keras\n",
        "from tensorflow.keras.preprocessing.text import Tokenizer\n",
        "from tensorflow.keras.preprocessing.sequence import pad_sequences\n",
        "from tensorflow.keras import layers\n",
        "import numpy as np\n",
        "import nltk\n",
        "from nltk.stem import WordNetLemmatizer\n",
        "from nltk.corpus import stopwords\n",
        "\n",
        "nltk.download('punkt')\n",
        "nltk.download('wordnet')\n",
        "nltk.download('omw-1.4')\n",
        "# nltk.download('stopwords')\n"
      ],
      "metadata": {
        "colab": {
          "base_uri": "https://localhost:8080/"
        },
        "id": "2QsRSihW2ip0",
        "outputId": "54963dc7-ce92-4c2c-bd00-7bf8c0b93898"
      },
      "execution_count": null,
      "outputs": [
        {
          "output_type": "stream",
          "name": "stderr",
          "text": [
            "[nltk_data] Downloading package punkt to /root/nltk_data...\n",
            "[nltk_data]   Package punkt is already up-to-date!\n",
            "[nltk_data] Downloading package wordnet to /root/nltk_data...\n",
            "[nltk_data]   Package wordnet is already up-to-date!\n",
            "[nltk_data] Downloading package omw-1.4 to /root/nltk_data...\n",
            "[nltk_data]   Package omw-1.4 is already up-to-date!\n",
            "[nltk_data] Downloading package stopwords to /root/nltk_data...\n",
            "[nltk_data]   Package stopwords is already up-to-date!\n"
          ]
        },
        {
          "output_type": "execute_result",
          "data": {
            "text/plain": [
              "True"
            ]
          },
          "metadata": {},
          "execution_count": 1
        }
      ]
    },
    {
      "cell_type": "code",
      "source": [
        "with open(\"/content/intents4.json\") as intents_file:\n",
        "  intents = json.loads(intents_file.read())"
      ],
      "metadata": {
        "id": "qXLNiNQN6yjd"
      },
      "execution_count": null,
      "outputs": []
    },
    {
      "cell_type": "code",
      "source": [
        "lemmitizer = WordNetLemmatizer()\n",
        "# stop_words_list = stopwords.words(\"english\")"
      ],
      "metadata": {
        "id": "Q8yQUvJqGKHV"
      },
      "execution_count": null,
      "outputs": []
    },
    {
      "cell_type": "code",
      "source": [
        "def remove_punct(word: str) -> str:\n",
        "  translator = str.maketrans(\"\", \"\", string.punctuation)\n",
        "\n",
        "  return word.translate(translator)\n"
      ],
      "metadata": {
        "id": "GJUmRIpYC3eu"
      },
      "execution_count": null,
      "outputs": []
    },
    {
      "cell_type": "code",
      "source": [
        "# def remove_stopwords(raw_text: str) -> str:\n",
        "#     filtered_text = [word for word in raw_text.split() if word not in stop_words_list]\n",
        "#     return \" \".join(filtered_text)"
      ],
      "metadata": {
        "id": "Qa-KFk4dHXHF"
      },
      "execution_count": null,
      "outputs": []
    },
    {
      "cell_type": "code",
      "source": [
        "def lemmatize_string(raw_text: str) -> str:\n",
        "  filtered_text = [lemmitizer.lemmatize(word.lower()) for word in raw_text.split()]\n",
        "  return \" \".join(filtered_text)"
      ],
      "metadata": {
        "id": "cNpl5BErFEkg"
      },
      "execution_count": null,
      "outputs": []
    },
    {
      "cell_type": "code",
      "source": [
        "X = []\n",
        "y = []"
      ],
      "metadata": {
        "id": "GimdwwdA8U5j"
      },
      "execution_count": null,
      "outputs": []
    },
    {
      "cell_type": "code",
      "source": [
        "for intent in intents[\"intents\"]:\n",
        "    for pattern in intent[\"text\"]:\n",
        "        # pattern = remove_stopwords(pattern)\n",
        "        pattern = remove_punct(pattern)\n",
        "        pattern = lemmatize_string(pattern)\n",
        "        \n",
        "        X.append(pattern)\n",
        "        y.append(intent[\"intent\"])\n"
      ],
      "metadata": {
        "id": "wRXyVR4x8HRz"
      },
      "execution_count": null,
      "outputs": []
    },
    {
      "cell_type": "code",
      "source": [
        "def count_words(words_list: list):\n",
        "  count = Counter()\n",
        "\n",
        "  for word in words_list:\n",
        "      for word in word.split():\n",
        "          count[word] += 1\n",
        "  \n",
        "  return count"
      ],
      "metadata": {
        "id": "l5JczfhGHqHp"
      },
      "execution_count": null,
      "outputs": []
    },
    {
      "cell_type": "code",
      "source": [
        "classes_list = list(set(y))"
      ],
      "metadata": {
        "id": "NJ462PW-O_ep"
      },
      "execution_count": null,
      "outputs": []
    },
    {
      "cell_type": "code",
      "source": [
        "classes_list"
      ],
      "metadata": {
        "colab": {
          "base_uri": "https://localhost:8080/"
        },
        "id": "ti3JgWLTdgB0",
        "outputId": "4b3cb571-d332-48ae-8ac4-d8ef5f0d0f2a"
      },
      "execution_count": null,
      "outputs": [
        {
          "output_type": "execute_result",
          "data": {
            "text/plain": [
              "['Sun Burn',\n",
              " 'Abdonominal Pain',\n",
              " 'Insect Bites',\n",
              " 'Headache',\n",
              " 'GoodBye',\n",
              " 'Abrasions',\n",
              " 'Heat Stroke',\n",
              " 'PodBayDoor',\n",
              " 'stings',\n",
              " 'Poison',\n",
              " 'CPR',\n",
              " 'CourtesyGreeting',\n",
              " 'Greeting',\n",
              " 'Nasal Congestion',\n",
              " 'Clever',\n",
              " 'Jokes',\n",
              " 'Frost bite',\n",
              " 'Testicle Pain',\n",
              " 'NameQuery',\n",
              " 'Gastrointestinal problems',\n",
              " 'nose bleed',\n",
              " 'Fainting',\n",
              " 'Shutup',\n",
              " 'UnderstandQuery',\n",
              " 'NotTalking2U',\n",
              " 'Splinter',\n",
              " 'Skin problems',\n",
              " 'Pulled Muscle',\n",
              " 'Rash',\n",
              " 'Swearing',\n",
              " 'SelfInsult',\n",
              " 'Heat Exhaustion',\n",
              " 'Teeth',\n",
              " 'FavFood',\n",
              " 'Wound',\n",
              " 'Cough',\n",
              " 'NeverFade',\n",
              " 'Rectal bleeding',\n",
              " 'Normal Bleeding',\n",
              " 'Gossip',\n",
              " 'Eye Injury',\n",
              " 'Fracture',\n",
              " 'Haha',\n",
              " 'Fever',\n",
              " 'snake bite',\n",
              " 'CourtesyGreetingReversed',\n",
              " 'Insult',\n",
              " 'Strains',\n",
              " 'Head Injury',\n",
              " 'Thanks',\n",
              " 'RealNameQuery',\n",
              " 'Broken Toe',\n",
              " 'riddle',\n",
              " 'Weather',\n",
              " 'Sore Throat',\n",
              " 'animal bite',\n",
              " 'TimeQuery',\n",
              " 'Sprains',\n",
              " 'Cuts',\n",
              " 'Diarrhea',\n",
              " 'seizure',\n",
              " 'Choking',\n",
              " 'Chemical Burn',\n",
              " 'PodBayDoorResponse',\n",
              " 'Drowning',\n",
              " 'Cold',\n",
              " 'Vertigo',\n",
              " 'SelfAware',\n",
              " 'WhoAmI',\n",
              " 'Bruises',\n",
              " 'GreetingResponse',\n",
              " 'CourtesyGoodBye']"
            ]
          },
          "metadata": {},
          "execution_count": 92
        }
      ]
    },
    {
      "cell_type": "code",
      "source": [
        "words_num = count_words(X)\n",
        "num_unique_words = len(words_num)"
      ],
      "metadata": {
        "id": "y_ftjo5SIy_O"
      },
      "execution_count": null,
      "outputs": []
    },
    {
      "cell_type": "code",
      "source": [
        "from sklearn import preprocessing\n",
        "\n",
        "le = preprocessing.LabelEncoder()\n",
        "\n",
        "y = le.fit_transform(y)\n",
        "print(y[0])\n",
        "y = tf.keras.utils.to_categorical(y, num_classes=len(classes_list))\n",
        "print(y[0])"
      ],
      "metadata": {
        "id": "Q4_BKNvrEfI3",
        "colab": {
          "base_uri": "https://localhost:8080/"
        },
        "outputId": "6274662f-ee46-4de2-f8cb-deb43eb501a1"
      },
      "execution_count": null,
      "outputs": [
        {
          "output_type": "stream",
          "name": "stdout",
          "text": [
            "13\n",
            "[0. 0. 0. 0. 0. 0. 0. 0. 0. 0. 0. 0. 0. 1. 0. 0. 0. 0. 0. 0. 0. 0. 0. 0.\n",
            " 0. 0. 0. 0. 0. 0. 0. 0. 0. 0. 0. 0. 0. 0. 0. 0. 0. 0. 0. 0. 0. 0. 0. 0.\n",
            " 0. 0. 0. 0. 0. 0. 0. 0. 0. 0. 0. 0. 0. 0. 0. 0. 0. 0. 0. 0. 0. 0. 0. 0.]\n"
          ]
        }
      ]
    },
    {
      "cell_type": "code",
      "source": [
        "X = np.array(X)"
      ],
      "metadata": {
        "id": "Y8Ko3S6FLZ-U"
      },
      "execution_count": null,
      "outputs": []
    },
    {
      "cell_type": "code",
      "source": [
        "from tensorflow.keras.preprocessing.text import Tokenizer\n",
        "\n",
        "tokenizer = Tokenizer(num_words=num_unique_words)\n",
        "tokenizer.fit_on_texts(X)"
      ],
      "metadata": {
        "id": "4uKpb6MtK-Nk"
      },
      "execution_count": null,
      "outputs": []
    },
    {
      "cell_type": "code",
      "source": [
        "word_index = tokenizer.word_index"
      ],
      "metadata": {
        "id": "4-krnLA3LtTy"
      },
      "execution_count": null,
      "outputs": []
    },
    {
      "cell_type": "code",
      "source": [
        "X = tokenizer.texts_to_sequences(X)"
      ],
      "metadata": {
        "id": "PPFEmO83L1aB"
      },
      "execution_count": null,
      "outputs": []
    },
    {
      "cell_type": "code",
      "source": [
        "def find_avg_list(list):\n",
        "    list_len = [len(i) for i in list]\n",
        "    return sum(list_len) // len(list_len)\n",
        "\n",
        "find_avg_list(X)"
      ],
      "metadata": {
        "colab": {
          "base_uri": "https://localhost:8080/"
        },
        "id": "4EpQS_Q3M7Hy",
        "outputId": "1be60b07-0cb5-47ba-bd3f-63f88e14f627"
      },
      "execution_count": null,
      "outputs": [
        {
          "output_type": "execute_result",
          "data": {
            "text/plain": [
              "5"
            ]
          },
          "metadata": {},
          "execution_count": 99
        }
      ]
    },
    {
      "cell_type": "code",
      "source": [
        "from tensorflow.keras.preprocessing.sequence import pad_sequences\n",
        "\n",
        "max_length = 10\n",
        "\n",
        "X_padded = pad_sequences(X, maxlen=max_length, padding=\"post\", truncating=\"post\")"
      ],
      "metadata": {
        "id": "vcaDUNDrMZfN"
      },
      "execution_count": null,
      "outputs": []
    },
    {
      "cell_type": "code",
      "source": [
        "reverse_word_index = dict([(idx, word) for (word, idx) in word_index.items()])"
      ],
      "metadata": {
        "id": "FNQr9oNZN07e"
      },
      "execution_count": null,
      "outputs": []
    },
    {
      "cell_type": "code",
      "source": [
        "reverse_word_index"
      ],
      "metadata": {
        "colab": {
          "base_uri": "https://localhost:8080/"
        },
        "id": "QkgxbjwzOCPH",
        "outputId": "c9b52926-ef5b-4bff-a053-aeffca3f8956"
      },
      "execution_count": null,
      "outputs": [
        {
          "output_type": "execute_result",
          "data": {
            "text/plain": [
              "{1: 'to',\n",
              " 2: 'you',\n",
              " 3: 'a',\n",
              " 4: 'do',\n",
              " 5: 'i',\n",
              " 6: 'how',\n",
              " 7: 'if',\n",
              " 8: 'get',\n",
              " 9: 'what',\n",
              " 10: 'which',\n",
              " 11: 'treat',\n",
              " 12: 'medicine',\n",
              " 13: 'take',\n",
              " 14: 'cure',\n",
              " 15: 'are',\n",
              " 16: 'me',\n",
              " 17: 'the',\n",
              " 18: 'bite',\n",
              " 19: 'is',\n",
              " 20: 'can',\n",
              " 21: 'am',\n",
              " 22: 'your',\n",
              " 23: 'have',\n",
              " 24: 'bleeding',\n",
              " 25: 'name',\n",
              " 26: 'please',\n",
              " 27: 'tell',\n",
              " 28: 'pod',\n",
              " 29: 'bay',\n",
              " 30: 'door',\n",
              " 31: 'apply',\n",
              " 32: 'mild',\n",
              " 33: 'pain',\n",
              " 34: 'broken',\n",
              " 35: 'burn',\n",
              " 36: 'open',\n",
              " 37: 'heat',\n",
              " 38: 'real',\n",
              " 39: 'time',\n",
              " 40: 'not',\n",
              " 41: 'prove',\n",
              " 42: 'for',\n",
              " 43: 'abrasion',\n",
              " 44: 'nose',\n",
              " 45: 'feel',\n",
              " 46: 'my',\n",
              " 47: 'in',\n",
              " 48: 'see',\n",
              " 49: 'im',\n",
              " 50: 'good',\n",
              " 51: 'thanks',\n",
              " 52: 'gossip',\n",
              " 53: 'joke',\n",
              " 54: 'why',\n",
              " 55: 'cut',\n",
              " 56: 'strain',\n",
              " 57: 'pulled',\n",
              " 58: 'muscle',\n",
              " 59: 'cough',\n",
              " 60: 'problem',\n",
              " 61: 'got',\n",
              " 62: 'injury',\n",
              " 63: 'snake',\n",
              " 64: 'know',\n",
              " 65: 'talking',\n",
              " 66: 'stupid',\n",
              " 67: 'sting',\n",
              " 68: 'splinter',\n",
              " 69: 'sprain',\n",
              " 70: 'fever',\n",
              " 71: 'nasal',\n",
              " 72: 'congestion',\n",
              " 73: 'of',\n",
              " 74: 'sore',\n",
              " 75: 'throat',\n",
              " 76: 'skin',\n",
              " 77: 'abdonominal',\n",
              " 78: 'bruise',\n",
              " 79: 'toe',\n",
              " 80: 'diarrhea',\n",
              " 81: 'frost',\n",
              " 82: 'stroke',\n",
              " 83: 'insect',\n",
              " 84: 'rectal',\n",
              " 85: 'sun',\n",
              " 86: 'testicle',\n",
              " 87: 'vertigo',\n",
              " 88: 'eye',\n",
              " 89: 'chemical',\n",
              " 90: 'teeth',\n",
              " 91: 'seizure',\n",
              " 92: 'head',\n",
              " 93: 'headache',\n",
              " 94: 'cold',\n",
              " 95: 'rash',\n",
              " 96: 'drowning',\n",
              " 97: 'cpr',\n",
              " 98: 'fracture',\n",
              " 99: 'hello',\n",
              " 100: 'whats',\n",
              " 101: 'thank',\n",
              " 102: 'wasnt',\n",
              " 103: 'bye',\n",
              " 104: 'goodbye',\n",
              " 105: 'very',\n",
              " 106: 'conscious',\n",
              " 107: 'dumb',\n",
              " 108: 'gas',\n",
              " 109: 'allergy',\n",
              " 110: 'wound',\n",
              " 111: 'by',\n",
              " 112: 'injured',\n",
              " 113: 'dog',\n",
              " 114: 'person',\n",
              " 115: 'help',\n",
              " 116: 'hi',\n",
              " 117: 'there',\n",
              " 118: 'adam',\n",
              " 119: 'doing',\n",
              " 120: 'well',\n",
              " 121: 'fine',\n",
              " 122: 'call',\n",
              " 123: 'ok',\n",
              " 124: 'quiet',\n",
              " 125: 'up',\n",
              " 126: 'clever',\n",
              " 127: 'bot',\n",
              " 128: 'any',\n",
              " 129: 'some',\n",
              " 130: 'will',\n",
              " 131: 'selfaware',\n",
              " 132: 'weather',\n",
              " 133: 'favorite',\n",
              " 134: 'food',\n",
              " 135: 'thing',\n",
              " 136: 'beauty',\n",
              " 137: 'youre',\n",
              " 138: 'idiot',\n",
              " 139: 'cream',\n",
              " 140: 'blocked',\n",
              " 141: 'choking',\n",
              " 142: 'exhaustion',\n",
              " 143: 'exhausted',\n",
              " 144: 'due',\n",
              " 145: 'poison',\n",
              " 146: 'faint',\n",
              " 147: 'fainting',\n",
              " 148: 'bit',\n",
              " 149: 'animal',\n",
              " 150: 'someone',\n",
              " 151: 'step',\n",
              " 152: 'give',\n",
              " 153: 'hola',\n",
              " 154: 'hya',\n",
              " 155: 'hope',\n",
              " 156: 'who',\n",
              " 157: 'it',\n",
              " 158: 'thats',\n",
              " 159: 'wa',\n",
              " 160: 'understand',\n",
              " 161: 'saying',\n",
              " 162: 'be',\n",
              " 163: 'shut',\n",
              " 164: 'fuck',\n",
              " 165: 'anyone',\n",
              " 166: 'camera',\n",
              " 167: 'intelligent',\n",
              " 168: 'genious',\n",
              " 169: 'self',\n",
              " 170: 'aware',\n",
              " 171: 'ask',\n",
              " 172: 'riddle',\n",
              " 173: 'funny',\n",
              " 174: 'xd',\n",
              " 175: 'on',\n",
              " 176: 'cause',\n",
              " 177: 'scar',\n",
              " 178: 'remove',\n",
              " 179: 'bring',\n",
              " 180: 'surface',\n",
              " 181: 'diagnose',\n",
              " 182: 'or',\n",
              " 183: 'ice',\n",
              " 184: 'better',\n",
              " 185: 'long',\n",
              " 186: 'doe',\n",
              " 187: 'last',\n",
              " 188: 'rid',\n",
              " 189: 'gastrointestinal',\n",
              " 190: 'choke',\n",
              " 191: 'choked',\n",
              " 192: 'wounded',\n",
              " 193: 'bitten',\n",
              " 194: 'bleed',\n",
              " 195: 'an',\n",
              " 196: 'poisoned',\n",
              " 197: 'poisoning',\n",
              " 198: 'like',\n",
              " 199: 'monkey',\n",
              " 200: 'monekey',\n",
              " 201: 'drowned',\n",
              " 202: 'john',\n",
              " 203: 'this',\n",
              " 204: 'really',\n",
              " 205: 'fantastic',\n",
              " 206: 'could',\n",
              " 207: 'friend',\n",
              " 208: 'helpful',\n",
              " 209: 'meant',\n",
              " 210: 'communicating',\n",
              " 211: 'speaking',\n",
              " 212: 'comprendo',\n",
              " 213: 'mean',\n",
              " 214: 'stop',\n",
              " 215: 'enough',\n",
              " 216: 'shhh',\n",
              " 217: 'off',\n",
              " 218: 'twat',\n",
              " 219: 'shit',\n",
              " 220: 'adios',\n",
              " 221: 'later',\n",
              " 222: 'identify',\n",
              " 223: 'bored',\n",
              " 224: 'with',\n",
              " 225: 'want',\n",
              " 226: 'hear',\n",
              " 227: 'more',\n",
              " 228: 'about',\n",
              " 229: 'make',\n",
              " 230: 'laugh',\n",
              " 231: 'need',\n",
              " 232: 'cheering',\n",
              " 233: 'surely',\n",
              " 234: 'question',\n",
              " 235: 'haha',\n",
              " 236: 'lol',\n",
              " 237: 'rofl',\n",
              " 238: 'lmao',\n",
              " 239: 'that',\n",
              " 240: 'but'}"
            ]
          },
          "metadata": {},
          "execution_count": 103
        }
      ]
    },
    {
      "cell_type": "code",
      "source": [
        "def decode(sequence):\n",
        "    return \" \".join([reverse_word_index.get(idx, \"?\") for idx in sequence])"
      ],
      "metadata": {
        "id": "aHNhOuhGOFRB"
      },
      "execution_count": null,
      "outputs": []
    },
    {
      "cell_type": "code",
      "source": [
        "decoded_text = decode(X[0])\n",
        "decoded_text"
      ],
      "metadata": {
        "colab": {
          "base_uri": "https://localhost:8080/",
          "height": 36
        },
        "id": "1hn9x3c8OIld",
        "outputId": "f095d0f6-267b-42ff-dd30-a3bfcccad83c"
      },
      "execution_count": null,
      "outputs": [
        {
          "output_type": "execute_result",
          "data": {
            "text/plain": [
              "'what to do if cut'"
            ],
            "application/vnd.google.colaboratory.intrinsic+json": {
              "type": "string"
            }
          },
          "metadata": {},
          "execution_count": 105
        }
      ]
    },
    {
      "cell_type": "code",
      "source": [
        "from tensorflow.python.keras.backend import dropout\n",
        "model = keras.models.Sequential()\n",
        "\n",
        "model.add(layers.Embedding(num_unique_words, 32, input_length=max_length))\n",
        "model.add(layers.LSTM(64, dropout=0.1))\n",
        "model.add(layers.Dense(len(classes_list), activation=\"softmax\"))\n",
        "\n",
        "model.summary()"
      ],
      "metadata": {
        "colab": {
          "base_uri": "https://localhost:8080/"
        },
        "id": "plwOfnsTDKJh",
        "outputId": "13991b5f-f6c9-4e44-b0a3-1073c921ae76"
      },
      "execution_count": null,
      "outputs": [
        {
          "output_type": "stream",
          "name": "stdout",
          "text": [
            "Model: \"sequential_2\"\n",
            "_________________________________________________________________\n",
            "Layer (type)                 Output Shape              Param #   \n",
            "=================================================================\n",
            "embedding_2 (Embedding)      (None, 10, 32)            7680      \n",
            "_________________________________________________________________\n",
            "lstm_2 (LSTM)                (None, 64)                24832     \n",
            "_________________________________________________________________\n",
            "dense_2 (Dense)              (None, 72)                4680      \n",
            "=================================================================\n",
            "Total params: 37,192\n",
            "Trainable params: 37,192\n",
            "Non-trainable params: 0\n",
            "_________________________________________________________________\n"
          ]
        }
      ]
    },
    {
      "cell_type": "code",
      "source": [
        "optim = keras.optimizers.Adam(lr=0.001)\n",
        "\n",
        "model.compile(\n",
        "    optimizer=optim,\n",
        "    loss=\"categorical_crossentropy\",\n",
        "    metrics=[\"accuracy\"]\n",
        ")"
      ],
      "metadata": {
        "id": "kcHGi7VaZKV0"
      },
      "execution_count": null,
      "outputs": []
    },
    {
      "cell_type": "code",
      "source": [
        "model.fit(X_padded, y, epochs=100, verbose=1)"
      ],
      "metadata": {
        "colab": {
          "base_uri": "https://localhost:8080/"
        },
        "id": "1sWwOAcZZ3yz",
        "outputId": "5bcf9a51-c5a5-4641-8027-d9e171d8a7b5"
      },
      "execution_count": null,
      "outputs": [
        {
          "output_type": "stream",
          "name": "stdout",
          "text": [
            "Epoch 1/100\n",
            "12/12 [==============================] - 0s 8ms/step - loss: 4.2763 - accuracy: 0.0222\n",
            "Epoch 2/100\n",
            "12/12 [==============================] - 0s 8ms/step - loss: 4.2669 - accuracy: 0.0250\n",
            "Epoch 3/100\n",
            "12/12 [==============================] - 0s 9ms/step - loss: 4.2514 - accuracy: 0.0278\n",
            "Epoch 4/100\n",
            "12/12 [==============================] - 0s 8ms/step - loss: 4.1849 - accuracy: 0.0278\n",
            "Epoch 5/100\n",
            "12/12 [==============================] - 0s 8ms/step - loss: 3.9797 - accuracy: 0.0333\n",
            "Epoch 6/100\n",
            "12/12 [==============================] - 0s 8ms/step - loss: 3.8334 - accuracy: 0.0194\n",
            "Epoch 7/100\n",
            "12/12 [==============================] - 0s 8ms/step - loss: 3.7578 - accuracy: 0.0361\n",
            "Epoch 8/100\n",
            "12/12 [==============================] - 0s 7ms/step - loss: 3.7144 - accuracy: 0.0417\n",
            "Epoch 9/100\n",
            "12/12 [==============================] - 0s 8ms/step - loss: 3.6807 - accuracy: 0.0500\n",
            "Epoch 10/100\n",
            "12/12 [==============================] - 0s 8ms/step - loss: 3.6472 - accuracy: 0.0500\n",
            "Epoch 11/100\n",
            "12/12 [==============================] - 0s 7ms/step - loss: 3.6119 - accuracy: 0.0667\n",
            "Epoch 12/100\n",
            "12/12 [==============================] - 0s 9ms/step - loss: 3.5717 - accuracy: 0.1056\n",
            "Epoch 13/100\n",
            "12/12 [==============================] - 0s 7ms/step - loss: 3.5224 - accuracy: 0.0806\n",
            "Epoch 14/100\n",
            "12/12 [==============================] - 0s 9ms/step - loss: 3.4691 - accuracy: 0.0861\n",
            "Epoch 15/100\n",
            "12/12 [==============================] - 0s 8ms/step - loss: 3.4288 - accuracy: 0.0861\n",
            "Epoch 16/100\n",
            "12/12 [==============================] - 0s 8ms/step - loss: 3.3787 - accuracy: 0.0944\n",
            "Epoch 17/100\n",
            "12/12 [==============================] - 0s 8ms/step - loss: 3.3319 - accuracy: 0.1139\n",
            "Epoch 18/100\n",
            "12/12 [==============================] - 0s 8ms/step - loss: 3.2786 - accuracy: 0.1167\n",
            "Epoch 19/100\n",
            "12/12 [==============================] - 0s 7ms/step - loss: 3.2297 - accuracy: 0.1278\n",
            "Epoch 20/100\n",
            "12/12 [==============================] - 0s 8ms/step - loss: 3.1664 - accuracy: 0.1472\n",
            "Epoch 21/100\n",
            "12/12 [==============================] - 0s 8ms/step - loss: 3.1167 - accuracy: 0.1583\n",
            "Epoch 22/100\n",
            "12/12 [==============================] - 0s 7ms/step - loss: 3.0654 - accuracy: 0.1694\n",
            "Epoch 23/100\n",
            "12/12 [==============================] - 0s 8ms/step - loss: 3.0151 - accuracy: 0.1667\n",
            "Epoch 24/100\n",
            "12/12 [==============================] - 0s 7ms/step - loss: 2.9550 - accuracy: 0.2083\n",
            "Epoch 25/100\n",
            "12/12 [==============================] - 0s 8ms/step - loss: 2.9024 - accuracy: 0.1944\n",
            "Epoch 26/100\n",
            "12/12 [==============================] - 0s 8ms/step - loss: 2.8389 - accuracy: 0.2167\n",
            "Epoch 27/100\n",
            "12/12 [==============================] - 0s 7ms/step - loss: 2.7516 - accuracy: 0.2417\n",
            "Epoch 28/100\n",
            "12/12 [==============================] - 0s 7ms/step - loss: 2.7067 - accuracy: 0.2444\n",
            "Epoch 29/100\n",
            "12/12 [==============================] - 0s 8ms/step - loss: 2.6469 - accuracy: 0.2528\n",
            "Epoch 30/100\n",
            "12/12 [==============================] - 0s 7ms/step - loss: 2.5902 - accuracy: 0.2639\n",
            "Epoch 31/100\n",
            "12/12 [==============================] - 0s 8ms/step - loss: 2.5298 - accuracy: 0.3028\n",
            "Epoch 32/100\n",
            "12/12 [==============================] - 0s 7ms/step - loss: 2.4848 - accuracy: 0.3056\n",
            "Epoch 33/100\n",
            "12/12 [==============================] - 0s 8ms/step - loss: 2.4235 - accuracy: 0.3389\n",
            "Epoch 34/100\n",
            "12/12 [==============================] - 0s 7ms/step - loss: 2.3794 - accuracy: 0.3528\n",
            "Epoch 35/100\n",
            "12/12 [==============================] - 0s 7ms/step - loss: 2.3121 - accuracy: 0.3778\n",
            "Epoch 36/100\n",
            "12/12 [==============================] - 0s 7ms/step - loss: 2.2689 - accuracy: 0.3806\n",
            "Epoch 37/100\n",
            "12/12 [==============================] - 0s 8ms/step - loss: 2.2049 - accuracy: 0.3917\n",
            "Epoch 38/100\n",
            "12/12 [==============================] - 0s 7ms/step - loss: 2.1746 - accuracy: 0.3667\n",
            "Epoch 39/100\n",
            "12/12 [==============================] - 0s 7ms/step - loss: 2.1380 - accuracy: 0.4194\n",
            "Epoch 40/100\n",
            "12/12 [==============================] - 0s 7ms/step - loss: 2.0951 - accuracy: 0.4028\n",
            "Epoch 41/100\n",
            "12/12 [==============================] - 0s 8ms/step - loss: 2.0494 - accuracy: 0.4111\n",
            "Epoch 42/100\n",
            "12/12 [==============================] - 0s 8ms/step - loss: 2.0089 - accuracy: 0.4389\n",
            "Epoch 43/100\n",
            "12/12 [==============================] - 0s 7ms/step - loss: 1.9524 - accuracy: 0.4611\n",
            "Epoch 44/100\n",
            "12/12 [==============================] - 0s 8ms/step - loss: 1.9187 - accuracy: 0.4806\n",
            "Epoch 45/100\n",
            "12/12 [==============================] - 0s 7ms/step - loss: 1.8689 - accuracy: 0.5306\n",
            "Epoch 46/100\n",
            "12/12 [==============================] - 0s 8ms/step - loss: 1.8497 - accuracy: 0.5139\n",
            "Epoch 47/100\n",
            "12/12 [==============================] - 0s 7ms/step - loss: 1.7748 - accuracy: 0.5500\n",
            "Epoch 48/100\n",
            "12/12 [==============================] - 0s 8ms/step - loss: 1.7539 - accuracy: 0.5667\n",
            "Epoch 49/100\n",
            "12/12 [==============================] - 0s 8ms/step - loss: 1.7083 - accuracy: 0.5889\n",
            "Epoch 50/100\n",
            "12/12 [==============================] - 0s 8ms/step - loss: 1.6509 - accuracy: 0.6306\n",
            "Epoch 51/100\n",
            "12/12 [==============================] - 0s 8ms/step - loss: 1.6200 - accuracy: 0.6500\n",
            "Epoch 52/100\n",
            "12/12 [==============================] - 0s 8ms/step - loss: 1.5892 - accuracy: 0.6222\n",
            "Epoch 53/100\n",
            "12/12 [==============================] - 0s 8ms/step - loss: 1.5496 - accuracy: 0.6472\n",
            "Epoch 54/100\n",
            "12/12 [==============================] - 0s 7ms/step - loss: 1.5011 - accuracy: 0.6583\n",
            "Epoch 55/100\n",
            "12/12 [==============================] - 0s 8ms/step - loss: 1.4867 - accuracy: 0.6667\n",
            "Epoch 56/100\n",
            "12/12 [==============================] - 0s 7ms/step - loss: 1.4347 - accuracy: 0.6750\n",
            "Epoch 57/100\n",
            "12/12 [==============================] - 0s 7ms/step - loss: 1.4413 - accuracy: 0.6750\n",
            "Epoch 58/100\n",
            "12/12 [==============================] - 0s 7ms/step - loss: 1.3692 - accuracy: 0.7167\n",
            "Epoch 59/100\n",
            "12/12 [==============================] - 0s 8ms/step - loss: 1.3426 - accuracy: 0.7222\n",
            "Epoch 60/100\n",
            "12/12 [==============================] - 0s 8ms/step - loss: 1.2959 - accuracy: 0.7389\n",
            "Epoch 61/100\n",
            "12/12 [==============================] - 0s 8ms/step - loss: 1.2863 - accuracy: 0.7250\n",
            "Epoch 62/100\n",
            "12/12 [==============================] - 0s 7ms/step - loss: 1.2276 - accuracy: 0.7611\n",
            "Epoch 63/100\n",
            "12/12 [==============================] - 0s 11ms/step - loss: 1.2029 - accuracy: 0.7806\n",
            "Epoch 64/100\n",
            "12/12 [==============================] - 0s 8ms/step - loss: 1.1664 - accuracy: 0.7889\n",
            "Epoch 65/100\n",
            "12/12 [==============================] - 0s 7ms/step - loss: 1.1558 - accuracy: 0.7861\n",
            "Epoch 66/100\n",
            "12/12 [==============================] - 0s 7ms/step - loss: 1.1132 - accuracy: 0.8028\n",
            "Epoch 67/100\n",
            "12/12 [==============================] - 0s 8ms/step - loss: 1.0902 - accuracy: 0.7944\n",
            "Epoch 68/100\n",
            "12/12 [==============================] - 0s 8ms/step - loss: 1.0481 - accuracy: 0.8167\n",
            "Epoch 69/100\n",
            "12/12 [==============================] - 0s 9ms/step - loss: 1.0120 - accuracy: 0.8250\n",
            "Epoch 70/100\n",
            "12/12 [==============================] - 0s 8ms/step - loss: 0.9759 - accuracy: 0.8611\n",
            "Epoch 71/100\n",
            "12/12 [==============================] - 0s 8ms/step - loss: 0.9806 - accuracy: 0.8333\n",
            "Epoch 72/100\n",
            "12/12 [==============================] - 0s 8ms/step - loss: 0.9255 - accuracy: 0.8583\n",
            "Epoch 73/100\n",
            "12/12 [==============================] - 0s 7ms/step - loss: 0.9412 - accuracy: 0.8583\n",
            "Epoch 74/100\n",
            "12/12 [==============================] - 0s 8ms/step - loss: 0.9090 - accuracy: 0.8556\n",
            "Epoch 75/100\n",
            "12/12 [==============================] - 0s 8ms/step - loss: 0.8852 - accuracy: 0.8917\n",
            "Epoch 76/100\n",
            "12/12 [==============================] - 0s 7ms/step - loss: 0.8620 - accuracy: 0.8750\n",
            "Epoch 77/100\n",
            "12/12 [==============================] - 0s 8ms/step - loss: 0.8546 - accuracy: 0.8861\n",
            "Epoch 78/100\n",
            "12/12 [==============================] - 0s 8ms/step - loss: 0.8176 - accuracy: 0.8861\n",
            "Epoch 79/100\n",
            "12/12 [==============================] - 0s 8ms/step - loss: 0.7989 - accuracy: 0.8861\n",
            "Epoch 80/100\n",
            "12/12 [==============================] - 0s 7ms/step - loss: 0.7643 - accuracy: 0.9083\n",
            "Epoch 81/100\n",
            "12/12 [==============================] - 0s 8ms/step - loss: 0.7439 - accuracy: 0.8944\n",
            "Epoch 82/100\n",
            "12/12 [==============================] - 0s 8ms/step - loss: 0.7294 - accuracy: 0.9194\n",
            "Epoch 83/100\n",
            "12/12 [==============================] - 0s 8ms/step - loss: 0.7135 - accuracy: 0.9056\n",
            "Epoch 84/100\n",
            "12/12 [==============================] - 0s 8ms/step - loss: 0.7251 - accuracy: 0.8917\n",
            "Epoch 85/100\n",
            "12/12 [==============================] - 0s 7ms/step - loss: 0.6825 - accuracy: 0.9083\n",
            "Epoch 86/100\n",
            "12/12 [==============================] - 0s 7ms/step - loss: 0.6639 - accuracy: 0.9111\n",
            "Epoch 87/100\n",
            "12/12 [==============================] - 0s 8ms/step - loss: 0.6328 - accuracy: 0.9167\n",
            "Epoch 88/100\n",
            "12/12 [==============================] - 0s 8ms/step - loss: 0.6239 - accuracy: 0.9222\n",
            "Epoch 89/100\n",
            "12/12 [==============================] - 0s 7ms/step - loss: 0.6125 - accuracy: 0.9306\n",
            "Epoch 90/100\n",
            "12/12 [==============================] - 0s 8ms/step - loss: 0.6017 - accuracy: 0.9333\n",
            "Epoch 91/100\n",
            "12/12 [==============================] - 0s 7ms/step - loss: 0.5868 - accuracy: 0.9472\n",
            "Epoch 92/100\n",
            "12/12 [==============================] - 0s 8ms/step - loss: 0.5505 - accuracy: 0.9472\n",
            "Epoch 93/100\n",
            "12/12 [==============================] - 0s 7ms/step - loss: 0.5464 - accuracy: 0.9444\n",
            "Epoch 94/100\n",
            "12/12 [==============================] - 0s 7ms/step - loss: 0.5317 - accuracy: 0.9500\n",
            "Epoch 95/100\n",
            "12/12 [==============================] - 0s 8ms/step - loss: 0.5225 - accuracy: 0.9444\n",
            "Epoch 96/100\n",
            "12/12 [==============================] - 0s 8ms/step - loss: 0.5054 - accuracy: 0.9611\n",
            "Epoch 97/100\n",
            "12/12 [==============================] - 0s 9ms/step - loss: 0.5008 - accuracy: 0.9500\n",
            "Epoch 98/100\n",
            "12/12 [==============================] - 0s 8ms/step - loss: 0.4747 - accuracy: 0.9389\n",
            "Epoch 99/100\n",
            "12/12 [==============================] - 0s 8ms/step - loss: 0.4697 - accuracy: 0.9639\n",
            "Epoch 100/100\n",
            "12/12 [==============================] - 0s 8ms/step - loss: 0.4556 - accuracy: 0.9528\n"
          ]
        },
        {
          "output_type": "execute_result",
          "data": {
            "text/plain": [
              "<tensorflow.python.keras.callbacks.History at 0x7f9ed7d39150>"
            ]
          },
          "metadata": {},
          "execution_count": 108
        }
      ]
    },
    {
      "cell_type": "code",
      "source": [
        "test_sent = \"Tell me a joke\"\n",
        "\n",
        "test_sent = remove_punct(test_sent)\n",
        "test_sent = lemmatize_string(test_sent)\n",
        "print(test_sent)\n",
        "test_sent = np.array([test_sent])\n",
        "test_sent = tokenizer.texts_to_sequences(test_sent)\n",
        "print(test_sent)\n",
        "print(decode(test_sent[0]))\n",
        "test_sent = pad_sequences(test_sent, maxlen=max_length, padding=\"post\", truncating=\"post\")\n",
        "\n",
        "pred = model.predict(test_sent)\n",
        "class_id = np.argmax(pred)\n",
        "class_name = le.inverse_transform([class_id])\n",
        "print(class_name[0])\n",
        "\n",
        "def get_answer(pred: np.array) -> str:\n",
        "    for intent in intents[\"intents\"]:\n",
        "        tag = intent[\"intent\"]\n",
        "        if tag == pred[0]:\n",
        "            return random.choice(intent[\"responses\"])\n",
        "  \n",
        "print(get_answer(class_name))"
      ],
      "metadata": {
        "id": "LzQW-kqbaNGd",
        "colab": {
          "base_uri": "https://localhost:8080/"
        },
        "outputId": "4438308d-0ef1-43cb-a304-445e3421d2a4"
      },
      "execution_count": null,
      "outputs": [
        {
          "output_type": "stream",
          "name": "stdout",
          "text": [
            "tell me a joke\n",
            "[[27, 16, 3, 53]]\n",
            "tell me a joke\n",
            "Jokes\n",
            "I went to the Chinese restaurant and this duck came up to me with a red rose and says 'Your eyes sparkle like diamonds'. I said, 'Waiter, I asked for a-ROMATIC duck'.  \n"
          ]
        }
      ]
    },
    {
      "cell_type": "code",
      "source": [
        "model.save(\"ChatBotIntentsModel3.h5\")"
      ],
      "metadata": {
        "id": "SSAhkYuxFmtZ"
      },
      "execution_count": null,
      "outputs": []
    },
    {
      "cell_type": "code",
      "source": [
        "with open(\"tokenizer2.pkl\", \"wb\") as f:\n",
        "    pickle.dump(tokenizer, f)"
      ],
      "metadata": {
        "id": "kudJVmbSJ-rY"
      },
      "execution_count": null,
      "outputs": []
    },
    {
      "cell_type": "code",
      "source": [
        "with open(\"label_encoder2.pkl\", \"wb\") as f:\n",
        "    pickle.dump(le, f)"
      ],
      "metadata": {
        "id": "QIyutXzOSHyo"
      },
      "execution_count": null,
      "outputs": []
    }
  ]
}