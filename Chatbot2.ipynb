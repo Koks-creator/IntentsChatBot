{
  "nbformat": 4,
  "nbformat_minor": 0,
  "metadata": {
    "colab": {
      "provenance": [],
      "authorship_tag": "ABX9TyOzbz8O0tvLjV0DPCqOktG4",
      "include_colab_link": true
    },
    "kernelspec": {
      "name": "python3",
      "display_name": "Python 3"
    },
    "language_info": {
      "name": "python"
    }
  },
  "cells": [
    {
      "cell_type": "markdown",
      "metadata": {
        "id": "view-in-github",
        "colab_type": "text"
      },
      "source": [
        "<a href=\"https://colab.research.google.com/github/Koks-creator/IntentsChatBot/blob/main/Chatbot2.ipynb\" target=\"_parent\"><img src=\"https://colab.research.google.com/assets/colab-badge.svg\" alt=\"Open In Colab\"/></a>"
      ]
    },
    {
      "cell_type": "code",
      "execution_count": null,
      "metadata": {
        "colab": {
          "base_uri": "https://localhost:8080/",
          "height": 1000
        },
        "id": "ZWASzJ9O0fbL",
        "outputId": "8962dbe4-f5ad-4475-cbf4-83787b64a3cd"
      },
      "outputs": [
        {
          "output_type": "stream",
          "name": "stdout",
          "text": [
            "Looking in indexes: https://pypi.org/simple, https://us-python.pkg.dev/colab-wheels/public/simple/\n",
            "Collecting keras==2.4.3\n",
            "  Downloading Keras-2.4.3-py2.py3-none-any.whl (36 kB)\n",
            "Collecting tensorflow==2.3.1\n",
            "  Downloading tensorflow-2.3.1-cp37-cp37m-manylinux2010_x86_64.whl (320.4 MB)\n",
            "\u001b[K     |████████████████████████████████| 320.4 MB 26 kB/s \n",
            "\u001b[?25hRequirement already satisfied: scipy>=0.14 in /usr/local/lib/python3.7/dist-packages (from keras==2.4.3) (1.7.3)\n",
            "Requirement already satisfied: h5py in /usr/local/lib/python3.7/dist-packages (from keras==2.4.3) (3.1.0)\n",
            "Requirement already satisfied: numpy>=1.9.1 in /usr/local/lib/python3.7/dist-packages (from keras==2.4.3) (1.21.6)\n",
            "Requirement already satisfied: pyyaml in /usr/local/lib/python3.7/dist-packages (from keras==2.4.3) (6.0)\n",
            "Collecting h5py\n",
            "  Downloading h5py-2.10.0-cp37-cp37m-manylinux1_x86_64.whl (2.9 MB)\n",
            "\u001b[K     |████████████████████████████████| 2.9 MB 52.7 MB/s \n",
            "\u001b[?25hRequirement already satisfied: termcolor>=1.1.0 in /usr/local/lib/python3.7/dist-packages (from tensorflow==2.3.1) (2.1.0)\n",
            "Collecting gast==0.3.3\n",
            "  Downloading gast-0.3.3-py2.py3-none-any.whl (9.7 kB)\n",
            "Requirement already satisfied: wheel>=0.26 in /usr/local/lib/python3.7/dist-packages (from tensorflow==2.3.1) (0.38.3)\n",
            "Requirement already satisfied: astunparse==1.6.3 in /usr/local/lib/python3.7/dist-packages (from tensorflow==2.3.1) (1.6.3)\n",
            "Collecting tensorflow-estimator<2.4.0,>=2.3.0\n",
            "  Downloading tensorflow_estimator-2.3.0-py2.py3-none-any.whl (459 kB)\n",
            "\u001b[K     |████████████████████████████████| 459 kB 50.5 MB/s \n",
            "\u001b[?25hRequirement already satisfied: tensorboard<3,>=2.3.0 in /usr/local/lib/python3.7/dist-packages (from tensorflow==2.3.1) (2.9.1)\n",
            "Collecting numpy>=1.9.1\n",
            "  Downloading numpy-1.18.5-cp37-cp37m-manylinux1_x86_64.whl (20.1 MB)\n",
            "\u001b[K     |████████████████████████████████| 20.1 MB 1.3 MB/s \n",
            "\u001b[?25hRequirement already satisfied: grpcio>=1.8.6 in /usr/local/lib/python3.7/dist-packages (from tensorflow==2.3.1) (1.50.0)\n",
            "Requirement already satisfied: wrapt>=1.11.1 in /usr/local/lib/python3.7/dist-packages (from tensorflow==2.3.1) (1.14.1)\n",
            "Requirement already satisfied: absl-py>=0.7.0 in /usr/local/lib/python3.7/dist-packages (from tensorflow==2.3.1) (1.3.0)\n",
            "Requirement already satisfied: keras-preprocessing<1.2,>=1.1.1 in /usr/local/lib/python3.7/dist-packages (from tensorflow==2.3.1) (1.1.2)\n",
            "Requirement already satisfied: six>=1.12.0 in /usr/local/lib/python3.7/dist-packages (from tensorflow==2.3.1) (1.15.0)\n",
            "Requirement already satisfied: opt-einsum>=2.3.2 in /usr/local/lib/python3.7/dist-packages (from tensorflow==2.3.1) (3.3.0)\n",
            "Requirement already satisfied: google-pasta>=0.1.8 in /usr/local/lib/python3.7/dist-packages (from tensorflow==2.3.1) (0.2.0)\n",
            "Requirement already satisfied: protobuf>=3.9.2 in /usr/local/lib/python3.7/dist-packages (from tensorflow==2.3.1) (3.19.6)\n",
            "Requirement already satisfied: tensorboard-plugin-wit>=1.6.0 in /usr/local/lib/python3.7/dist-packages (from tensorboard<3,>=2.3.0->tensorflow==2.3.1) (1.8.1)\n",
            "Requirement already satisfied: tensorboard-data-server<0.7.0,>=0.6.0 in /usr/local/lib/python3.7/dist-packages (from tensorboard<3,>=2.3.0->tensorflow==2.3.1) (0.6.1)\n",
            "Requirement already satisfied: google-auth-oauthlib<0.5,>=0.4.1 in /usr/local/lib/python3.7/dist-packages (from tensorboard<3,>=2.3.0->tensorflow==2.3.1) (0.4.6)\n",
            "Requirement already satisfied: google-auth<3,>=1.6.3 in /usr/local/lib/python3.7/dist-packages (from tensorboard<3,>=2.3.0->tensorflow==2.3.1) (2.14.1)\n",
            "Requirement already satisfied: requests<3,>=2.21.0 in /usr/local/lib/python3.7/dist-packages (from tensorboard<3,>=2.3.0->tensorflow==2.3.1) (2.23.0)\n",
            "Requirement already satisfied: werkzeug>=1.0.1 in /usr/local/lib/python3.7/dist-packages (from tensorboard<3,>=2.3.0->tensorflow==2.3.1) (1.0.1)\n",
            "Requirement already satisfied: markdown>=2.6.8 in /usr/local/lib/python3.7/dist-packages (from tensorboard<3,>=2.3.0->tensorflow==2.3.1) (3.4.1)\n",
            "Requirement already satisfied: setuptools>=41.0.0 in /usr/local/lib/python3.7/dist-packages (from tensorboard<3,>=2.3.0->tensorflow==2.3.1) (57.4.0)\n",
            "Requirement already satisfied: pyasn1-modules>=0.2.1 in /usr/local/lib/python3.7/dist-packages (from google-auth<3,>=1.6.3->tensorboard<3,>=2.3.0->tensorflow==2.3.1) (0.2.8)\n",
            "Requirement already satisfied: cachetools<6.0,>=2.0.0 in /usr/local/lib/python3.7/dist-packages (from google-auth<3,>=1.6.3->tensorboard<3,>=2.3.0->tensorflow==2.3.1) (5.2.0)\n",
            "Requirement already satisfied: rsa<5,>=3.1.4 in /usr/local/lib/python3.7/dist-packages (from google-auth<3,>=1.6.3->tensorboard<3,>=2.3.0->tensorflow==2.3.1) (4.9)\n",
            "Requirement already satisfied: requests-oauthlib>=0.7.0 in /usr/local/lib/python3.7/dist-packages (from google-auth-oauthlib<0.5,>=0.4.1->tensorboard<3,>=2.3.0->tensorflow==2.3.1) (1.3.1)\n",
            "Requirement already satisfied: importlib-metadata>=4.4 in /usr/local/lib/python3.7/dist-packages (from markdown>=2.6.8->tensorboard<3,>=2.3.0->tensorflow==2.3.1) (4.13.0)\n",
            "Requirement already satisfied: typing-extensions>=3.6.4 in /usr/local/lib/python3.7/dist-packages (from importlib-metadata>=4.4->markdown>=2.6.8->tensorboard<3,>=2.3.0->tensorflow==2.3.1) (4.1.1)\n",
            "Requirement already satisfied: zipp>=0.5 in /usr/local/lib/python3.7/dist-packages (from importlib-metadata>=4.4->markdown>=2.6.8->tensorboard<3,>=2.3.0->tensorflow==2.3.1) (3.10.0)\n",
            "Requirement already satisfied: pyasn1<0.5.0,>=0.4.6 in /usr/local/lib/python3.7/dist-packages (from pyasn1-modules>=0.2.1->google-auth<3,>=1.6.3->tensorboard<3,>=2.3.0->tensorflow==2.3.1) (0.4.8)\n",
            "Requirement already satisfied: idna<3,>=2.5 in /usr/local/lib/python3.7/dist-packages (from requests<3,>=2.21.0->tensorboard<3,>=2.3.0->tensorflow==2.3.1) (2.10)\n",
            "Requirement already satisfied: certifi>=2017.4.17 in /usr/local/lib/python3.7/dist-packages (from requests<3,>=2.21.0->tensorboard<3,>=2.3.0->tensorflow==2.3.1) (2022.9.24)\n",
            "Requirement already satisfied: urllib3!=1.25.0,!=1.25.1,<1.26,>=1.21.1 in /usr/local/lib/python3.7/dist-packages (from requests<3,>=2.21.0->tensorboard<3,>=2.3.0->tensorflow==2.3.1) (1.24.3)\n",
            "Requirement already satisfied: chardet<4,>=3.0.2 in /usr/local/lib/python3.7/dist-packages (from requests<3,>=2.21.0->tensorboard<3,>=2.3.0->tensorflow==2.3.1) (3.0.4)\n",
            "Requirement already satisfied: oauthlib>=3.0.0 in /usr/local/lib/python3.7/dist-packages (from requests-oauthlib>=0.7.0->google-auth-oauthlib<0.5,>=0.4.1->tensorboard<3,>=2.3.0->tensorflow==2.3.1) (3.2.2)\n",
            "Installing collected packages: numpy, tensorflow-estimator, h5py, gast, tensorflow, keras\n",
            "  Attempting uninstall: numpy\n",
            "    Found existing installation: numpy 1.21.6\n",
            "    Uninstalling numpy-1.21.6:\n",
            "      Successfully uninstalled numpy-1.21.6\n",
            "  Attempting uninstall: tensorflow-estimator\n",
            "    Found existing installation: tensorflow-estimator 2.9.0\n",
            "    Uninstalling tensorflow-estimator-2.9.0:\n",
            "      Successfully uninstalled tensorflow-estimator-2.9.0\n",
            "  Attempting uninstall: h5py\n",
            "    Found existing installation: h5py 3.1.0\n",
            "    Uninstalling h5py-3.1.0:\n",
            "      Successfully uninstalled h5py-3.1.0\n",
            "  Attempting uninstall: gast\n",
            "    Found existing installation: gast 0.4.0\n",
            "    Uninstalling gast-0.4.0:\n",
            "      Successfully uninstalled gast-0.4.0\n",
            "  Attempting uninstall: tensorflow\n",
            "    Found existing installation: tensorflow 2.9.2\n",
            "    Uninstalling tensorflow-2.9.2:\n",
            "      Successfully uninstalled tensorflow-2.9.2\n",
            "  Attempting uninstall: keras\n",
            "    Found existing installation: keras 2.9.0\n",
            "    Uninstalling keras-2.9.0:\n",
            "      Successfully uninstalled keras-2.9.0\n",
            "\u001b[31mERROR: pip's dependency resolver does not currently take into account all the packages that are installed. This behaviour is the source of the following dependency conflicts.\n",
            "xarray-einstats 0.2.2 requires numpy>=1.21, but you have numpy 1.18.5 which is incompatible.\n",
            "tables 3.7.0 requires numpy>=1.19.0, but you have numpy 1.18.5 which is incompatible.\n",
            "plotnine 0.8.0 requires numpy>=1.19.0, but you have numpy 1.18.5 which is incompatible.\n",
            "jaxlib 0.3.22+cuda11.cudnn805 requires numpy>=1.20, but you have numpy 1.18.5 which is incompatible.\n",
            "jax 0.3.23 requires numpy>=1.20, but you have numpy 1.18.5 which is incompatible.\n",
            "cmdstanpy 1.0.8 requires numpy>=1.21, but you have numpy 1.18.5 which is incompatible.\u001b[0m\n",
            "Successfully installed gast-0.3.3 h5py-2.10.0 keras-2.4.3 numpy-1.18.5 tensorflow-2.3.1 tensorflow-estimator-2.3.0\n"
          ]
        },
        {
          "output_type": "display_data",
          "data": {
            "application/vnd.colab-display-data+json": {
              "pip_warning": {
                "packages": [
                  "numpy"
                ]
              }
            }
          },
          "metadata": {}
        }
      ],
      "source": [
        "!pip install keras==2.4.3 tensorflow==2.3.1"
      ]
    },
    {
      "cell_type": "code",
      "source": [
        "import re\n",
        "import random\n",
        "import pickle\n",
        "import json\n",
        "from collections import Counter\n",
        "import string\n",
        "import pandas as pd\n",
        "import numpy as np\n",
        "import tensorflow as tf\n",
        "from tensorflow import keras\n",
        "from tensorflow.keras.preprocessing.text import Tokenizer\n",
        "from tensorflow.keras.preprocessing.sequence import pad_sequences\n",
        "from tensorflow.keras import layers\n",
        "import numpy as np\n",
        "import nltk\n",
        "from nltk.stem import WordNetLemmatizer\n",
        "from nltk.corpus import stopwords\n",
        "\n",
        "nltk.download('punkt')\n",
        "nltk.download('wordnet')\n",
        "nltk.download('omw-1.4')\n",
        "nltk.download('stopwords')\n"
      ],
      "metadata": {
        "colab": {
          "base_uri": "https://localhost:8080/"
        },
        "id": "2QsRSihW2ip0",
        "outputId": "1a15c9fa-db4b-4d15-b039-8790b5ab2eb5"
      },
      "execution_count": null,
      "outputs": [
        {
          "output_type": "stream",
          "name": "stderr",
          "text": [
            "[nltk_data] Downloading package punkt to /root/nltk_data...\n",
            "[nltk_data]   Package punkt is already up-to-date!\n",
            "[nltk_data] Downloading package wordnet to /root/nltk_data...\n",
            "[nltk_data]   Package wordnet is already up-to-date!\n",
            "[nltk_data] Downloading package omw-1.4 to /root/nltk_data...\n",
            "[nltk_data]   Package omw-1.4 is already up-to-date!\n",
            "[nltk_data] Downloading package stopwords to /root/nltk_data...\n",
            "[nltk_data]   Package stopwords is already up-to-date!\n"
          ]
        },
        {
          "output_type": "execute_result",
          "data": {
            "text/plain": [
              "True"
            ]
          },
          "metadata": {},
          "execution_count": 201
        }
      ]
    },
    {
      "cell_type": "code",
      "source": [
        "with open(\"/content/intents3.json\") as intents_file:\n",
        "  intents = json.loads(intents_file.read())"
      ],
      "metadata": {
        "id": "qXLNiNQN6yjd"
      },
      "execution_count": null,
      "outputs": []
    },
    {
      "cell_type": "code",
      "source": [
        "lemmitizer = WordNetLemmatizer()"
      ],
      "metadata": {
        "id": "Q8yQUvJqGKHV"
      },
      "execution_count": null,
      "outputs": []
    },
    {
      "cell_type": "code",
      "source": [
        "def remove_punct(word: str) -> str:\n",
        "  translator = str.maketrans(\"\", \"\", string.punctuation)\n",
        "\n",
        "  return word.translate(translator)\n"
      ],
      "metadata": {
        "id": "GJUmRIpYC3eu"
      },
      "execution_count": null,
      "outputs": []
    },
    {
      "cell_type": "code",
      "source": [
        "def lemmatize_string(raw_text: str) -> str:\n",
        "  filtered_text = [lemmitizer.lemmatize(word.lower()) for word in raw_text.split()]\n",
        "  return \" \".join(filtered_text)"
      ],
      "metadata": {
        "id": "cNpl5BErFEkg"
      },
      "execution_count": null,
      "outputs": []
    },
    {
      "cell_type": "code",
      "source": [
        "X = []\n",
        "y = []"
      ],
      "metadata": {
        "id": "GimdwwdA8U5j"
      },
      "execution_count": null,
      "outputs": []
    },
    {
      "cell_type": "code",
      "source": [
        "for intent in intents[\"intents\"]:\n",
        "    for pattern in intent[\"text\"]:\n",
        "        pattern = remove_punct(pattern)\n",
        "\n",
        "        pattern = lemmatize_string(pattern)\n",
        "        \n",
        "        X.append(pattern)\n",
        "        y.append(intent[\"intent\"])\n"
      ],
      "metadata": {
        "id": "wRXyVR4x8HRz"
      },
      "execution_count": null,
      "outputs": []
    },
    {
      "cell_type": "code",
      "source": [
        "def count_words(words_list: list):\n",
        "  count = Counter()\n",
        "\n",
        "  for word in words_list:\n",
        "      for word in word.split():\n",
        "          count[word] += 1\n",
        "  \n",
        "  return count"
      ],
      "metadata": {
        "id": "l5JczfhGHqHp"
      },
      "execution_count": null,
      "outputs": []
    },
    {
      "cell_type": "code",
      "source": [
        "classes_list = list(set(y))"
      ],
      "metadata": {
        "id": "NJ462PW-O_ep"
      },
      "execution_count": null,
      "outputs": []
    },
    {
      "cell_type": "code",
      "source": [
        "classes_list"
      ],
      "metadata": {
        "colab": {
          "base_uri": "https://localhost:8080/"
        },
        "id": "ti3JgWLTdgB0",
        "outputId": "9cb50d36-e42f-4561-e3d2-d654c46847a3"
      },
      "execution_count": null,
      "outputs": [
        {
          "output_type": "execute_result",
          "data": {
            "text/plain": [
              "['Insult',\n",
              " 'PodBayDoorResponse',\n",
              " 'Haha',\n",
              " 'NeverFade',\n",
              " 'Swearing',\n",
              " 'Jokes',\n",
              " 'WhoAmI',\n",
              " 'SelfInsult',\n",
              " 'FavFood',\n",
              " 'Gossip',\n",
              " 'TimeQuery',\n",
              " 'Weather',\n",
              " 'CourtesyGoodBye',\n",
              " 'CourtesyGreeting',\n",
              " 'NotTalking2U',\n",
              " 'SelfAware',\n",
              " 'riddle',\n",
              " 'GoodBye',\n",
              " 'PodBayDoor',\n",
              " 'RealNameQuery',\n",
              " 'Thanks',\n",
              " 'UnderstandQuery',\n",
              " 'Clever',\n",
              " 'GreetingResponse',\n",
              " 'Greeting',\n",
              " 'Shutup',\n",
              " 'NameQuery']"
            ]
          },
          "metadata": {},
          "execution_count": 210
        }
      ]
    },
    {
      "cell_type": "code",
      "source": [
        "words_num = count_words(X)\n",
        "num_unique_words = len(words_num)"
      ],
      "metadata": {
        "id": "y_ftjo5SIy_O"
      },
      "execution_count": null,
      "outputs": []
    },
    {
      "cell_type": "code",
      "source": [
        "from sklearn import preprocessing\n",
        "\n",
        "le = preprocessing.LabelEncoder()\n",
        "\n",
        "y = le.fit_transform(y)\n",
        "print(y[0])\n",
        "y = tf.keras.utils.to_categorical(y, num_classes=len(classes_list))\n",
        "print(y[0])"
      ],
      "metadata": {
        "id": "Q4_BKNvrEfI3",
        "colab": {
          "base_uri": "https://localhost:8080/"
        },
        "outputId": "636c1bd2-9a27-48b5-8658-ff73677a8522"
      },
      "execution_count": null,
      "outputs": [
        {
          "output_type": "stream",
          "name": "stdout",
          "text": [
            "6\n",
            "[0. 0. 0. 0. 0. 0. 1. 0. 0. 0. 0. 0. 0. 0. 0. 0. 0. 0. 0. 0. 0. 0. 0. 0.\n",
            " 0. 0. 0.]\n"
          ]
        }
      ]
    },
    {
      "cell_type": "code",
      "source": [
        "X = np.array(X)"
      ],
      "metadata": {
        "id": "Y8Ko3S6FLZ-U"
      },
      "execution_count": null,
      "outputs": []
    },
    {
      "cell_type": "code",
      "source": [
        "from tensorflow.keras.preprocessing.text import Tokenizer\n",
        "\n",
        "tokenizer = Tokenizer(num_words=num_unique_words)\n",
        "tokenizer.fit_on_texts(X)"
      ],
      "metadata": {
        "id": "4uKpb6MtK-Nk"
      },
      "execution_count": null,
      "outputs": []
    },
    {
      "cell_type": "code",
      "source": [
        "word_index = tokenizer.word_index"
      ],
      "metadata": {
        "id": "4-krnLA3LtTy"
      },
      "execution_count": null,
      "outputs": []
    },
    {
      "cell_type": "code",
      "source": [
        "X = tokenizer.texts_to_sequences(X)"
      ],
      "metadata": {
        "id": "PPFEmO83L1aB"
      },
      "execution_count": null,
      "outputs": []
    },
    {
      "cell_type": "code",
      "source": [
        "def find_avg_list(list):\n",
        "    list_len = [len(i) for i in list]\n",
        "    return sum(list_len) // len(list_len)\n",
        "\n",
        "find_avg_list(X)"
      ],
      "metadata": {
        "colab": {
          "base_uri": "https://localhost:8080/"
        },
        "id": "4EpQS_Q3M7Hy",
        "outputId": "d837d13c-72ee-498e-d3ff-9f36c9e5d6ab"
      },
      "execution_count": null,
      "outputs": [
        {
          "output_type": "execute_result",
          "data": {
            "text/plain": [
              "3"
            ]
          },
          "metadata": {},
          "execution_count": 217
        }
      ]
    },
    {
      "cell_type": "code",
      "source": [
        "from tensorflow.keras.preprocessing.sequence import pad_sequences\n",
        "\n",
        "max_length = 7\n",
        "\n",
        "X_padded = pad_sequences(X, maxlen=max_length, padding=\"post\", truncating=\"post\")"
      ],
      "metadata": {
        "id": "vcaDUNDrMZfN"
      },
      "execution_count": null,
      "outputs": []
    },
    {
      "cell_type": "code",
      "source": [
        "reverse_word_index = dict([(idx, word) for (word, idx) in word_index.items()])"
      ],
      "metadata": {
        "id": "FNQr9oNZN07e"
      },
      "execution_count": null,
      "outputs": []
    },
    {
      "cell_type": "code",
      "source": [
        "reverse_word_index"
      ],
      "metadata": {
        "colab": {
          "base_uri": "https://localhost:8080/"
        },
        "id": "QkgxbjwzOCPH",
        "outputId": "53589bd3-337a-444b-a0c0-4a0a4eddc534"
      },
      "execution_count": null,
      "outputs": [
        {
          "output_type": "execute_result",
          "data": {
            "text/plain": [
              "{1: 'you',\n",
              " 2: 'are',\n",
              " 3: 'me',\n",
              " 4: 'the',\n",
              " 5: 'i',\n",
              " 6: 'can',\n",
              " 7: 'what',\n",
              " 8: 'a',\n",
              " 9: 'your',\n",
              " 10: 'name',\n",
              " 11: 'is',\n",
              " 12: 'please',\n",
              " 13: 'do',\n",
              " 14: 'am',\n",
              " 15: 'tell',\n",
              " 16: 'pod',\n",
              " 17: 'bay',\n",
              " 18: 'door',\n",
              " 19: 'open',\n",
              " 20: 'real',\n",
              " 21: 'time',\n",
              " 22: 'not',\n",
              " 23: 'prove',\n",
              " 24: 'how',\n",
              " 25: 'thanks',\n",
              " 26: 'to',\n",
              " 27: 'gossip',\n",
              " 28: 'why',\n",
              " 29: 'know',\n",
              " 30: 'talking',\n",
              " 31: 'see',\n",
              " 32: 'joke',\n",
              " 33: 'stupid',\n",
              " 34: 'hello',\n",
              " 35: 'whats',\n",
              " 36: 'thank',\n",
              " 37: 'wasnt',\n",
              " 38: 'bye',\n",
              " 39: 'goodbye',\n",
              " 40: 'very',\n",
              " 41: 'conscious',\n",
              " 42: 'dumb',\n",
              " 43: 'hi',\n",
              " 44: 'there',\n",
              " 45: 'adam',\n",
              " 46: 'im',\n",
              " 47: 'doing',\n",
              " 48: 'well',\n",
              " 49: 'call',\n",
              " 50: 'ok',\n",
              " 51: 'for',\n",
              " 52: 'quiet',\n",
              " 53: 'up',\n",
              " 54: 'clever',\n",
              " 55: 'girl',\n",
              " 56: 'any',\n",
              " 57: 'some',\n",
              " 58: 'will',\n",
              " 59: 'selfaware',\n",
              " 60: 'have',\n",
              " 61: 'weather',\n",
              " 62: 'favorite',\n",
              " 63: 'food',\n",
              " 64: 'thing',\n",
              " 65: 'of',\n",
              " 66: 'beauty',\n",
              " 67: 'youre',\n",
              " 68: 'idiot',\n",
              " 69: 'hola',\n",
              " 70: 'hya',\n",
              " 71: 'my',\n",
              " 72: 'hope',\n",
              " 73: 'who',\n",
              " 74: 'it',\n",
              " 75: 'thats',\n",
              " 76: 'understand',\n",
              " 77: 'saying',\n",
              " 78: 'be',\n",
              " 79: 'shut',\n",
              " 80: 'fuck',\n",
              " 81: 'anyone',\n",
              " 82: 'in',\n",
              " 83: 'camera',\n",
              " 84: 'intelligent',\n",
              " 85: 'genious',\n",
              " 86: 'self',\n",
              " 87: 'aware',\n",
              " 88: 'ask',\n",
              " 89: 'riddle',\n",
              " 90: 'john',\n",
              " 91: 'this',\n",
              " 92: 'could',\n",
              " 93: 'friend',\n",
              " 94: 'helpful',\n",
              " 95: 'wa',\n",
              " 96: 'meant',\n",
              " 97: 'communicating',\n",
              " 98: 'speaking',\n",
              " 99: 'get',\n",
              " 100: 'comprendo',\n",
              " 101: 'mean',\n",
              " 102: 'stop',\n",
              " 103: 'enough',\n",
              " 104: 'shhh',\n",
              " 105: 'off',\n",
              " 106: 'twat',\n",
              " 107: 'shit',\n",
              " 108: 'adios',\n",
              " 109: 'later',\n",
              " 110: 'help',\n",
              " 111: 'good',\n",
              " 112: 'identify',\n",
              " 113: 'bored',\n",
              " 114: 'with',\n",
              " 115: 'got',\n",
              " 116: 'want',\n",
              " 117: 'hear',\n",
              " 118: 'more',\n",
              " 119: 'about',\n",
              " 120: 'give',\n",
              " 121: 'make',\n",
              " 122: 'laugh',\n",
              " 123: 'need',\n",
              " 124: 'cheering',\n",
              " 125: 'surely',\n",
              " 126: 'question',\n",
              " 127: 'haha',\n",
              " 128: 'lol',\n",
              " 129: 'rofl',\n",
              " 130: 'lmao',\n",
              " 131: 'funny',\n",
              " 132: 'but'}"
            ]
          },
          "metadata": {},
          "execution_count": 220
        }
      ]
    },
    {
      "cell_type": "code",
      "source": [
        "def decode(sequence):\n",
        "    return \" \".join([reverse_word_index.get(idx, \"?\") for idx in sequence])"
      ],
      "metadata": {
        "id": "aHNhOuhGOFRB"
      },
      "execution_count": null,
      "outputs": []
    },
    {
      "cell_type": "code",
      "source": [
        "decoded_text = decode(X[0])\n",
        "decoded_text"
      ],
      "metadata": {
        "colab": {
          "base_uri": "https://localhost:8080/",
          "height": 36
        },
        "id": "1hn9x3c8OIld",
        "outputId": "20b37fbe-b043-4bbd-cabf-b16b7d9ea5b9"
      },
      "execution_count": null,
      "outputs": [
        {
          "output_type": "execute_result",
          "data": {
            "text/plain": [
              "'hi'"
            ],
            "application/vnd.google.colaboratory.intrinsic+json": {
              "type": "string"
            }
          },
          "metadata": {},
          "execution_count": 222
        }
      ]
    },
    {
      "cell_type": "code",
      "source": [
        "from tensorflow.python.keras.backend import dropout\n",
        "model = keras.models.Sequential()\n",
        "\n",
        "model.add(layers.Embedding(num_unique_words, 32, input_length=max_length))\n",
        "model.add(layers.LSTM(64, return_sequences=True, activation='relu'))\n",
        "model.add(layers.LSTM(64, dropout=0.1))\n",
        "model.add(layers.Dense(len(classes_list), activation=\"softmax\"))\n",
        "\n",
        "model.summary()"
      ],
      "metadata": {
        "colab": {
          "base_uri": "https://localhost:8080/"
        },
        "id": "plwOfnsTDKJh",
        "outputId": "33da9d97-3c9c-47b1-fb6e-ec864d7ae2dc"
      },
      "execution_count": 236,
      "outputs": [
        {
          "output_type": "stream",
          "name": "stdout",
          "text": [
            "Model: \"sequential_7\"\n",
            "_________________________________________________________________\n",
            "Layer (type)                 Output Shape              Param #   \n",
            "=================================================================\n",
            "embedding_7 (Embedding)      (None, 7, 32)             4224      \n",
            "_________________________________________________________________\n",
            "lstm_7 (LSTM)                (None, 7, 64)             24832     \n",
            "_________________________________________________________________\n",
            "lstm_8 (LSTM)                (None, 64)                33024     \n",
            "_________________________________________________________________\n",
            "dense_7 (Dense)              (None, 27)                1755      \n",
            "=================================================================\n",
            "Total params: 63,835\n",
            "Trainable params: 63,835\n",
            "Non-trainable params: 0\n",
            "_________________________________________________________________\n"
          ]
        }
      ]
    },
    {
      "cell_type": "code",
      "source": [
        "optim = keras.optimizers.Adam(lr=0.001)\n",
        "\n",
        "model.compile(\n",
        "    optimizer=optim,\n",
        "    loss=\"categorical_crossentropy\",\n",
        "    metrics=[\"accuracy\"]\n",
        ")"
      ],
      "metadata": {
        "id": "kcHGi7VaZKV0"
      },
      "execution_count": 237,
      "outputs": []
    },
    {
      "cell_type": "code",
      "source": [
        "model.fit(X_padded, y, epochs=100, verbose=1)"
      ],
      "metadata": {
        "colab": {
          "base_uri": "https://localhost:8080/"
        },
        "id": "1sWwOAcZZ3yz",
        "outputId": "3bee4f9a-ada6-4fca-8175-c4c217e53329"
      },
      "execution_count": 238,
      "outputs": [
        {
          "output_type": "stream",
          "name": "stdout",
          "text": [
            "Epoch 1/100\n",
            "5/5 [==============================] - 0s 16ms/step - loss: 3.2961 - accuracy: 0.0570\n",
            "Epoch 2/100\n",
            "5/5 [==============================] - 0s 14ms/step - loss: 3.2926 - accuracy: 0.0506\n",
            "Epoch 3/100\n",
            "5/5 [==============================] - 0s 15ms/step - loss: 3.2887 - accuracy: 0.1013\n",
            "Epoch 4/100\n",
            "5/5 [==============================] - 0s 13ms/step - loss: 3.2843 - accuracy: 0.0823\n",
            "Epoch 5/100\n",
            "5/5 [==============================] - 0s 14ms/step - loss: 3.2778 - accuracy: 0.0886\n",
            "Epoch 6/100\n",
            "5/5 [==============================] - 0s 18ms/step - loss: 3.2693 - accuracy: 0.0759\n",
            "Epoch 7/100\n",
            "5/5 [==============================] - 0s 15ms/step - loss: 3.2512 - accuracy: 0.0633\n",
            "Epoch 8/100\n",
            "5/5 [==============================] - 0s 15ms/step - loss: 3.2216 - accuracy: 0.0570\n",
            "Epoch 9/100\n",
            "5/5 [==============================] - 0s 13ms/step - loss: 3.1566 - accuracy: 0.0570\n",
            "Epoch 10/100\n",
            "5/5 [==============================] - 0s 14ms/step - loss: 3.0681 - accuracy: 0.0759\n",
            "Epoch 11/100\n",
            "5/5 [==============================] - 0s 13ms/step - loss: 2.9680 - accuracy: 0.1456\n",
            "Epoch 12/100\n",
            "5/5 [==============================] - 0s 13ms/step - loss: 2.8538 - accuracy: 0.1456\n",
            "Epoch 13/100\n",
            "5/5 [==============================] - 0s 14ms/step - loss: 2.7380 - accuracy: 0.1646\n",
            "Epoch 14/100\n",
            "5/5 [==============================] - 0s 14ms/step - loss: 2.6233 - accuracy: 0.1772\n",
            "Epoch 15/100\n",
            "5/5 [==============================] - 0s 13ms/step - loss: 2.4851 - accuracy: 0.1962\n",
            "Epoch 16/100\n",
            "5/5 [==============================] - 0s 16ms/step - loss: 2.3602 - accuracy: 0.2658\n",
            "Epoch 17/100\n",
            "5/5 [==============================] - 0s 14ms/step - loss: 2.1960 - accuracy: 0.3481\n",
            "Epoch 18/100\n",
            "5/5 [==============================] - 0s 15ms/step - loss: 2.0714 - accuracy: 0.3861\n",
            "Epoch 19/100\n",
            "5/5 [==============================] - 0s 15ms/step - loss: 1.8974 - accuracy: 0.4557\n",
            "Epoch 20/100\n",
            "5/5 [==============================] - 0s 15ms/step - loss: 1.7378 - accuracy: 0.5063\n",
            "Epoch 21/100\n",
            "5/5 [==============================] - 0s 14ms/step - loss: 1.6159 - accuracy: 0.5443\n",
            "Epoch 22/100\n",
            "5/5 [==============================] - 0s 15ms/step - loss: 1.4974 - accuracy: 0.5570\n",
            "Epoch 23/100\n",
            "5/5 [==============================] - 0s 14ms/step - loss: 1.3947 - accuracy: 0.6139\n",
            "Epoch 24/100\n",
            "5/5 [==============================] - 0s 15ms/step - loss: 1.2774 - accuracy: 0.6329\n",
            "Epoch 25/100\n",
            "5/5 [==============================] - 0s 13ms/step - loss: 1.1678 - accuracy: 0.6456\n",
            "Epoch 26/100\n",
            "5/5 [==============================] - 0s 16ms/step - loss: 1.0208 - accuracy: 0.7342\n",
            "Epoch 27/100\n",
            "5/5 [==============================] - 0s 16ms/step - loss: 0.9454 - accuracy: 0.7848\n",
            "Epoch 28/100\n",
            "5/5 [==============================] - 0s 15ms/step - loss: 0.8581 - accuracy: 0.8418\n",
            "Epoch 29/100\n",
            "5/5 [==============================] - 0s 15ms/step - loss: 0.8085 - accuracy: 0.8354\n",
            "Epoch 30/100\n",
            "5/5 [==============================] - 0s 15ms/step - loss: 0.7114 - accuracy: 0.9051\n",
            "Epoch 31/100\n",
            "5/5 [==============================] - 0s 14ms/step - loss: 0.6509 - accuracy: 0.9051\n",
            "Epoch 32/100\n",
            "5/5 [==============================] - 0s 14ms/step - loss: 0.6226 - accuracy: 0.9177\n",
            "Epoch 33/100\n",
            "5/5 [==============================] - 0s 14ms/step - loss: 0.5616 - accuracy: 0.8861\n",
            "Epoch 34/100\n",
            "5/5 [==============================] - 0s 16ms/step - loss: 0.4976 - accuracy: 0.9430\n",
            "Epoch 35/100\n",
            "5/5 [==============================] - 0s 15ms/step - loss: 0.4672 - accuracy: 0.9177\n",
            "Epoch 36/100\n",
            "5/5 [==============================] - 0s 15ms/step - loss: 0.4333 - accuracy: 0.9430\n",
            "Epoch 37/100\n",
            "5/5 [==============================] - 0s 18ms/step - loss: 0.4001 - accuracy: 0.9430\n",
            "Epoch 38/100\n",
            "5/5 [==============================] - 0s 16ms/step - loss: 0.3519 - accuracy: 0.9810\n",
            "Epoch 39/100\n",
            "5/5 [==============================] - 0s 14ms/step - loss: 0.3467 - accuracy: 0.9494\n",
            "Epoch 40/100\n",
            "5/5 [==============================] - 0s 15ms/step - loss: 0.3047 - accuracy: 0.9747\n",
            "Epoch 41/100\n",
            "5/5 [==============================] - 0s 17ms/step - loss: 0.2851 - accuracy: 0.9747\n",
            "Epoch 42/100\n",
            "5/5 [==============================] - 0s 14ms/step - loss: 0.2650 - accuracy: 0.9747\n",
            "Epoch 43/100\n",
            "5/5 [==============================] - 0s 15ms/step - loss: 0.2416 - accuracy: 0.9747\n",
            "Epoch 44/100\n",
            "5/5 [==============================] - 0s 13ms/step - loss: 0.2320 - accuracy: 0.9810\n",
            "Epoch 45/100\n",
            "5/5 [==============================] - 0s 14ms/step - loss: 0.2111 - accuracy: 0.9747\n",
            "Epoch 46/100\n",
            "5/5 [==============================] - 0s 15ms/step - loss: 0.1991 - accuracy: 0.9810\n",
            "Epoch 47/100\n",
            "5/5 [==============================] - 0s 14ms/step - loss: 0.1906 - accuracy: 0.9810\n",
            "Epoch 48/100\n",
            "5/5 [==============================] - 0s 15ms/step - loss: 0.2009 - accuracy: 0.9810\n",
            "Epoch 49/100\n",
            "5/5 [==============================] - 0s 19ms/step - loss: 0.1802 - accuracy: 0.9937\n",
            "Epoch 50/100\n",
            "5/5 [==============================] - 0s 15ms/step - loss: 0.1681 - accuracy: 0.9937\n",
            "Epoch 51/100\n",
            "5/5 [==============================] - 0s 15ms/step - loss: 0.1573 - accuracy: 0.9810\n",
            "Epoch 52/100\n",
            "5/5 [==============================] - 0s 14ms/step - loss: 0.1466 - accuracy: 0.9937\n",
            "Epoch 53/100\n",
            "5/5 [==============================] - 0s 15ms/step - loss: 0.1501 - accuracy: 0.9873\n",
            "Epoch 54/100\n",
            "5/5 [==============================] - 0s 13ms/step - loss: 0.1264 - accuracy: 0.9937\n",
            "Epoch 55/100\n",
            "5/5 [==============================] - 0s 18ms/step - loss: 0.1154 - accuracy: 1.0000\n",
            "Epoch 56/100\n",
            "5/5 [==============================] - 0s 17ms/step - loss: 0.1141 - accuracy: 0.9937\n",
            "Epoch 57/100\n",
            "5/5 [==============================] - 0s 18ms/step - loss: 0.1094 - accuracy: 0.9937\n",
            "Epoch 58/100\n",
            "5/5 [==============================] - 0s 16ms/step - loss: 0.1076 - accuracy: 0.9937\n",
            "Epoch 59/100\n",
            "5/5 [==============================] - 0s 11ms/step - loss: 0.1023 - accuracy: 0.9937\n",
            "Epoch 60/100\n",
            "5/5 [==============================] - 0s 8ms/step - loss: 0.0928 - accuracy: 0.9937\n",
            "Epoch 61/100\n",
            "5/5 [==============================] - 0s 9ms/step - loss: 0.0924 - accuracy: 0.9937\n",
            "Epoch 62/100\n",
            "5/5 [==============================] - 0s 8ms/step - loss: 0.0930 - accuracy: 0.9937\n",
            "Epoch 63/100\n",
            "5/5 [==============================] - 0s 8ms/step - loss: 0.0982 - accuracy: 0.9873\n",
            "Epoch 64/100\n",
            "5/5 [==============================] - 0s 8ms/step - loss: 0.1116 - accuracy: 0.9873\n",
            "Epoch 65/100\n",
            "5/5 [==============================] - 0s 8ms/step - loss: 0.1026 - accuracy: 0.9937\n",
            "Epoch 66/100\n",
            "5/5 [==============================] - 0s 8ms/step - loss: 0.0879 - accuracy: 0.9873\n",
            "Epoch 67/100\n",
            "5/5 [==============================] - 0s 9ms/step - loss: 0.0840 - accuracy: 0.9937\n",
            "Epoch 68/100\n",
            "5/5 [==============================] - 0s 8ms/step - loss: 0.0844 - accuracy: 0.9937\n",
            "Epoch 69/100\n",
            "5/5 [==============================] - 0s 9ms/step - loss: 0.0777 - accuracy: 0.9937\n",
            "Epoch 70/100\n",
            "5/5 [==============================] - 0s 9ms/step - loss: 0.0746 - accuracy: 0.9937\n",
            "Epoch 71/100\n",
            "5/5 [==============================] - 0s 8ms/step - loss: 0.0687 - accuracy: 0.9873\n",
            "Epoch 72/100\n",
            "5/5 [==============================] - 0s 8ms/step - loss: 0.0693 - accuracy: 0.9873\n",
            "Epoch 73/100\n",
            "5/5 [==============================] - 0s 8ms/step - loss: 0.0711 - accuracy: 0.9937\n",
            "Epoch 74/100\n",
            "5/5 [==============================] - 0s 9ms/step - loss: 0.0663 - accuracy: 0.9937\n",
            "Epoch 75/100\n",
            "5/5 [==============================] - 0s 8ms/step - loss: 0.0703 - accuracy: 0.9937\n",
            "Epoch 76/100\n",
            "5/5 [==============================] - 0s 8ms/step - loss: 0.0621 - accuracy: 0.9937\n",
            "Epoch 77/100\n",
            "5/5 [==============================] - 0s 8ms/step - loss: 0.0667 - accuracy: 0.9873\n",
            "Epoch 78/100\n",
            "5/5 [==============================] - 0s 8ms/step - loss: 0.0562 - accuracy: 0.9937\n",
            "Epoch 79/100\n",
            "5/5 [==============================] - 0s 9ms/step - loss: 0.0563 - accuracy: 0.9873\n",
            "Epoch 80/100\n",
            "5/5 [==============================] - 0s 8ms/step - loss: 0.0515 - accuracy: 0.9937\n",
            "Epoch 81/100\n",
            "5/5 [==============================] - 0s 9ms/step - loss: 0.0515 - accuracy: 0.9937\n",
            "Epoch 82/100\n",
            "5/5 [==============================] - 0s 8ms/step - loss: 0.0509 - accuracy: 0.9937\n",
            "Epoch 83/100\n",
            "5/5 [==============================] - 0s 8ms/step - loss: 0.0513 - accuracy: 0.9873\n",
            "Epoch 84/100\n",
            "5/5 [==============================] - 0s 10ms/step - loss: 0.0515 - accuracy: 0.9937\n",
            "Epoch 85/100\n",
            "5/5 [==============================] - 0s 8ms/step - loss: 0.0479 - accuracy: 0.9873\n",
            "Epoch 86/100\n",
            "5/5 [==============================] - 0s 8ms/step - loss: 0.0454 - accuracy: 0.9937\n",
            "Epoch 87/100\n",
            "5/5 [==============================] - 0s 8ms/step - loss: 0.0463 - accuracy: 0.9937\n",
            "Epoch 88/100\n",
            "5/5 [==============================] - 0s 8ms/step - loss: 0.0458 - accuracy: 0.9873\n",
            "Epoch 89/100\n",
            "5/5 [==============================] - 0s 9ms/step - loss: 0.0434 - accuracy: 0.9937\n",
            "Epoch 90/100\n",
            "5/5 [==============================] - 0s 11ms/step - loss: 0.0424 - accuracy: 0.9937\n",
            "Epoch 91/100\n",
            "5/5 [==============================] - 0s 8ms/step - loss: 0.0416 - accuracy: 0.9937\n",
            "Epoch 92/100\n",
            "5/5 [==============================] - 0s 8ms/step - loss: 0.0430 - accuracy: 1.0000\n",
            "Epoch 93/100\n",
            "5/5 [==============================] - 0s 8ms/step - loss: 0.0428 - accuracy: 0.9937\n",
            "Epoch 94/100\n",
            "5/5 [==============================] - 0s 8ms/step - loss: 0.0421 - accuracy: 0.9873\n",
            "Epoch 95/100\n",
            "5/5 [==============================] - 0s 8ms/step - loss: 0.0385 - accuracy: 1.0000\n",
            "Epoch 96/100\n",
            "5/5 [==============================] - 0s 8ms/step - loss: 0.0398 - accuracy: 0.9873\n",
            "Epoch 97/100\n",
            "5/5 [==============================] - 0s 8ms/step - loss: 0.0400 - accuracy: 0.9937\n",
            "Epoch 98/100\n",
            "5/5 [==============================] - 0s 10ms/step - loss: 0.0377 - accuracy: 0.9937\n",
            "Epoch 99/100\n",
            "5/5 [==============================] - 0s 8ms/step - loss: 0.0357 - accuracy: 0.9937\n",
            "Epoch 100/100\n",
            "5/5 [==============================] - 0s 8ms/step - loss: 0.0346 - accuracy: 0.9937\n"
          ]
        },
        {
          "output_type": "execute_result",
          "data": {
            "text/plain": [
              "<tensorflow.python.keras.callbacks.History at 0x7f431f78d250>"
            ]
          },
          "metadata": {},
          "execution_count": 238
        }
      ]
    },
    {
      "cell_type": "code",
      "source": [
        "test_sent = \"I am josh\"\n",
        "\n",
        "test_sent = remove_punct(test_sent)\n",
        "test_sent = lemmatize_string(test_sent)\n",
        "print(test_sent)\n",
        "test_sent = np.array([test_sent])\n",
        "test_sent = tokenizer.texts_to_sequences(test_sent)\n",
        "print(test_sent)\n",
        "print(decode(test_sent[0]))\n",
        "test_sent = pad_sequences(test_sent, maxlen=max_length, padding=\"post\", truncating=\"post\")\n",
        "\n",
        "pred = model.predict(test_sent)\n",
        "class_id = np.argmax(pred)\n",
        "class_name = le.inverse_transform([class_id])\n",
        "print(class_name[0])\n",
        "\n",
        "def get_answer(pred: np.array) -> str:\n",
        "    for intent in intents[\"intents\"]:\n",
        "        tag = intent[\"intent\"]\n",
        "        if tag == pred[0]:\n",
        "            return random.choice(intent[\"responses\"])\n",
        "  \n",
        "print(get_answer(class_name))"
      ],
      "metadata": {
        "id": "LzQW-kqbaNGd",
        "colab": {
          "base_uri": "https://localhost:8080/"
        },
        "outputId": "6249c69c-6569-462b-fe7b-c7bf02eaebde"
      },
      "execution_count": 249,
      "outputs": [
        {
          "output_type": "stream",
          "name": "stdout",
          "text": [
            "i am josh\n",
            "[[5, 14]]\n",
            "i am\n",
            "Greeting\n",
            "Hola\n"
          ]
        }
      ]
    },
    {
      "cell_type": "code",
      "source": [
        "model.save(\"ChatBotIntentsModel2.h5\")"
      ],
      "metadata": {
        "id": "SSAhkYuxFmtZ"
      },
      "execution_count": null,
      "outputs": []
    },
    {
      "cell_type": "code",
      "source": [
        "with open(\"tokenizer.pkl\", \"wb\") as f:\n",
        "    pickle.dump(tokenizer, f)"
      ],
      "metadata": {
        "id": "kudJVmbSJ-rY"
      },
      "execution_count": null,
      "outputs": []
    },
    {
      "cell_type": "code",
      "source": [
        "with open(\"label_encoder.pkl\", \"wb\") as f:\n",
        "    pickle.dump(le, f)"
      ],
      "metadata": {
        "id": "QIyutXzOSHyo"
      },
      "execution_count": null,
      "outputs": []
    }
  ]
}